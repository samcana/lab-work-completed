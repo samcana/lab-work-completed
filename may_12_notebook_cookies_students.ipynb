{
 "cells": [
  {
   "cell_type": "code",
   "execution_count": 1,
   "metadata": {},
   "outputs": [],
   "source": [
    "import pandas as pd\n",
    "import matplotlib.pyplot as plt\n",
    "import seaborn as sns\n",
    "%matplotlib inline\n",
    "import numpy as np"
   ]
  },
  {
   "cell_type": "markdown",
   "metadata": {},
   "source": [
    "### Read the data "
   ]
  },
  {
   "cell_type": "code",
   "execution_count": 9,
   "metadata": {},
   "outputs": [],
   "source": [
    "cookies_test = pd.read_csv('cookies_test.csv')"
   ]
  },
  {
   "cell_type": "code",
   "execution_count": 11,
   "metadata": {},
   "outputs": [
    {
     "data": {
      "text/plain": [
       "(779, 17)"
      ]
     },
     "execution_count": 11,
     "metadata": {},
     "output_type": "execute_result"
    }
   ],
   "source": [
    "cookies_test.shape"
   ]
  },
  {
   "cell_type": "code",
   "execution_count": null,
   "metadata": {},
   "outputs": [],
   "source": []
  },
  {
   "cell_type": "code",
   "execution_count": null,
   "metadata": {},
   "outputs": [],
   "source": []
  },
  {
   "cell_type": "code",
   "execution_count": 2,
   "metadata": {},
   "outputs": [],
   "source": [
    "cookies = pd.read_csv('cookies.csv')"
   ]
  },
  {
   "cell_type": "code",
   "execution_count": 3,
   "metadata": {},
   "outputs": [
    {
     "data": {
      "text/html": [
       "<div>\n",
       "<style scoped>\n",
       "    .dataframe tbody tr th:only-of-type {\n",
       "        vertical-align: middle;\n",
       "    }\n",
       "\n",
       "    .dataframe tbody tr th {\n",
       "        vertical-align: top;\n",
       "    }\n",
       "\n",
       "    .dataframe thead th {\n",
       "        text-align: right;\n",
       "    }\n",
       "</style>\n",
       "<table border=\"1\" class=\"dataframe\">\n",
       "  <thead>\n",
       "    <tr style=\"text-align: right;\">\n",
       "      <th></th>\n",
       "      <th>sugar to flour ratio</th>\n",
       "      <th>sugar index</th>\n",
       "      <th>bake temp</th>\n",
       "      <th>chill time</th>\n",
       "      <th>calories</th>\n",
       "      <th>density</th>\n",
       "      <th>pH</th>\n",
       "      <th>grams baking soda</th>\n",
       "      <th>bake time</th>\n",
       "      <th>quality</th>\n",
       "      <th>butter type</th>\n",
       "      <th>weight</th>\n",
       "      <th>diameter</th>\n",
       "      <th>mixins</th>\n",
       "      <th>crunch factor</th>\n",
       "      <th>aesthetic appeal</th>\n",
       "    </tr>\n",
       "  </thead>\n",
       "  <tbody>\n",
       "    <tr>\n",
       "      <th>0</th>\n",
       "      <td>0.25</td>\n",
       "      <td>9.5</td>\n",
       "      <td>300</td>\n",
       "      <td>15.0</td>\n",
       "      <td>136.0</td>\n",
       "      <td>0.99367</td>\n",
       "      <td>8.10</td>\n",
       "      <td>0.44</td>\n",
       "      <td>12.1</td>\n",
       "      <td>8</td>\n",
       "      <td>melted</td>\n",
       "      <td>15.2</td>\n",
       "      <td>7</td>\n",
       "      <td>raisins</td>\n",
       "      <td>1.30</td>\n",
       "      <td>3</td>\n",
       "    </tr>\n",
       "    <tr>\n",
       "      <th>1</th>\n",
       "      <td>0.23</td>\n",
       "      <td>3.3</td>\n",
       "      <td>520</td>\n",
       "      <td>34.0</td>\n",
       "      <td>113.0</td>\n",
       "      <td>0.99429</td>\n",
       "      <td>8.16</td>\n",
       "      <td>0.48</td>\n",
       "      <td>8.4</td>\n",
       "      <td>7</td>\n",
       "      <td>melted</td>\n",
       "      <td>12.4</td>\n",
       "      <td>7</td>\n",
       "      <td>raisins</td>\n",
       "      <td>1.71</td>\n",
       "      <td>3</td>\n",
       "    </tr>\n",
       "    <tr>\n",
       "      <th>2</th>\n",
       "      <td>0.18</td>\n",
       "      <td>1.9</td>\n",
       "      <td>360</td>\n",
       "      <td>33.0</td>\n",
       "      <td>106.0</td>\n",
       "      <td>0.98746</td>\n",
       "      <td>8.21</td>\n",
       "      <td>0.83</td>\n",
       "      <td>14.0</td>\n",
       "      <td>9</td>\n",
       "      <td>melted</td>\n",
       "      <td>9.4</td>\n",
       "      <td>7</td>\n",
       "      <td>nuts, chocolate</td>\n",
       "      <td>1.78</td>\n",
       "      <td>3</td>\n",
       "    </tr>\n",
       "    <tr>\n",
       "      <th>3</th>\n",
       "      <td>0.18</td>\n",
       "      <td>10.5</td>\n",
       "      <td>490</td>\n",
       "      <td>41.0</td>\n",
       "      <td>124.0</td>\n",
       "      <td>0.99630</td>\n",
       "      <td>8.14</td>\n",
       "      <td>0.35</td>\n",
       "      <td>10.5</td>\n",
       "      <td>7</td>\n",
       "      <td>melted</td>\n",
       "      <td>12.2</td>\n",
       "      <td>7</td>\n",
       "      <td>chocolate</td>\n",
       "      <td>1.59</td>\n",
       "      <td>3</td>\n",
       "    </tr>\n",
       "    <tr>\n",
       "      <th>4</th>\n",
       "      <td>0.24</td>\n",
       "      <td>2.4</td>\n",
       "      <td>770</td>\n",
       "      <td>6.0</td>\n",
       "      <td>33.0</td>\n",
       "      <td>0.99740</td>\n",
       "      <td>8.09</td>\n",
       "      <td>0.57</td>\n",
       "      <td>9.4</td>\n",
       "      <td>5</td>\n",
       "      <td>cubed</td>\n",
       "      <td>19.8</td>\n",
       "      <td>7</td>\n",
       "      <td>nuts, oats, chocolate</td>\n",
       "      <td>1.30</td>\n",
       "      <td>3</td>\n",
       "    </tr>\n",
       "  </tbody>\n",
       "</table>\n",
       "</div>"
      ],
      "text/plain": [
       "   sugar to flour ratio  sugar index  bake temp  chill time  calories  \\\n",
       "0                  0.25          9.5        300        15.0     136.0   \n",
       "1                  0.23          3.3        520        34.0     113.0   \n",
       "2                  0.18          1.9        360        33.0     106.0   \n",
       "3                  0.18         10.5        490        41.0     124.0   \n",
       "4                  0.24          2.4        770         6.0      33.0   \n",
       "\n",
       "   density    pH  grams baking soda  bake time  quality butter type  weight  \\\n",
       "0  0.99367  8.10               0.44       12.1        8      melted    15.2   \n",
       "1  0.99429  8.16               0.48        8.4        7      melted    12.4   \n",
       "2  0.98746  8.21               0.83       14.0        9      melted     9.4   \n",
       "3  0.99630  8.14               0.35       10.5        7      melted    12.2   \n",
       "4  0.99740  8.09               0.57        9.4        5       cubed    19.8   \n",
       "\n",
       "   diameter                 mixins  crunch factor  aesthetic appeal  \n",
       "0         7                raisins           1.30                 3  \n",
       "1         7                raisins           1.71                 3  \n",
       "2         7        nuts, chocolate           1.78                 3  \n",
       "3         7              chocolate           1.59                 3  \n",
       "4         7  nuts, oats, chocolate           1.30                 3  "
      ]
     },
     "execution_count": 3,
     "metadata": {},
     "output_type": "execute_result"
    }
   ],
   "source": [
    "cookies.head()"
   ]
  },
  {
   "cell_type": "markdown",
   "metadata": {},
   "source": [
    "### Exploratory Data Analysis and Descriptive Statistics"
   ]
  },
  {
   "cell_type": "code",
   "execution_count": 8,
   "metadata": {},
   "outputs": [
    {
     "data": {
      "text/plain": [
       "(5198, 16)"
      ]
     },
     "execution_count": 8,
     "metadata": {},
     "output_type": "execute_result"
    }
   ],
   "source": [
    "cookies.shape"
   ]
  },
  {
   "cell_type": "code",
   "execution_count": 12,
   "metadata": {},
   "outputs": [
    {
     "name": "stdout",
     "output_type": "stream",
     "text": [
      "<class 'pandas.core.frame.DataFrame'>\n",
      "RangeIndex: 5198 entries, 0 to 5197\n",
      "Data columns (total 16 columns):\n",
      " #   Column                Non-Null Count  Dtype  \n",
      "---  ------                --------------  -----  \n",
      " 0   sugar to flour ratio  5198 non-null   float64\n",
      " 1   sugar index           5193 non-null   float64\n",
      " 2   bake temp             5198 non-null   int64  \n",
      " 3   chill time            5198 non-null   float64\n",
      " 4   calories              5198 non-null   float64\n",
      " 5   density               5198 non-null   float64\n",
      " 6   pH                    5198 non-null   float64\n",
      " 7   grams baking soda     5198 non-null   float64\n",
      " 8   bake time             5188 non-null   float64\n",
      " 9   quality               5198 non-null   int64  \n",
      " 10  butter type           5198 non-null   object \n",
      " 11  weight                5198 non-null   float64\n",
      " 12  diameter              5198 non-null   int64  \n",
      " 13  mixins                5196 non-null   object \n",
      " 14  crunch factor         5198 non-null   float64\n",
      " 15  aesthetic appeal      5198 non-null   int64  \n",
      "dtypes: float64(10), int64(4), object(2)\n",
      "memory usage: 649.9+ KB\n"
     ]
    }
   ],
   "source": [
    "cookies.info()"
   ]
  },
  {
   "cell_type": "markdown",
   "metadata": {},
   "source": [
    "## Bake time "
   ]
  },
  {
   "cell_type": "code",
   "execution_count": 13,
   "metadata": {},
   "outputs": [
    {
     "data": {
      "text/plain": [
       "count    5188.000000\n",
       "mean       10.494758\n",
       "std         1.194584\n",
       "min         8.000000\n",
       "25%         9.500000\n",
       "50%        10.300000\n",
       "75%        11.300000\n",
       "max        14.900000\n",
       "Name: bake time, dtype: float64"
      ]
     },
     "execution_count": 13,
     "metadata": {},
     "output_type": "execute_result"
    }
   ],
   "source": [
    "cookies['bake time'].describe()"
   ]
  },
  {
   "cell_type": "code",
   "execution_count": 15,
   "metadata": {},
   "outputs": [
    {
     "data": {
      "text/plain": [
       "count    5198.000000\n",
       "mean        7.325125\n",
       "std         1.302780\n",
       "min         3.000000\n",
       "25%         7.000000\n",
       "50%         8.000000\n",
       "75%         8.000000\n",
       "max        11.000000\n",
       "Name: quality, dtype: float64"
      ]
     },
     "execution_count": 15,
     "metadata": {},
     "output_type": "execute_result"
    }
   ],
   "source": [
    "cookies['quality'].describe()"
   ]
  },
  {
   "cell_type": "code",
   "execution_count": 16,
   "metadata": {},
   "outputs": [
    {
     "data": {
      "text/plain": [
       "array([ 8,  7,  9,  5,  6,  3, 10,  4, 11])"
      ]
     },
     "execution_count": 16,
     "metadata": {},
     "output_type": "execute_result"
    }
   ],
   "source": [
    "cookies['quality'].unique()"
   ]
  },
  {
   "cell_type": "code",
   "execution_count": 18,
   "metadata": {},
   "outputs": [
    {
     "data": {
      "text/plain": [
       "8     1780\n",
       "7     1323\n",
       "9      707\n",
       "6      617\n",
       "5      577\n",
       "10     137\n",
       "4       44\n",
       "3        8\n",
       "11       5\n",
       "Name: quality, dtype: int64"
      ]
     },
     "execution_count": 18,
     "metadata": {},
     "output_type": "execute_result"
    }
   ],
   "source": [
    "cookies.quality.value_counts()"
   ]
  },
  {
   "cell_type": "code",
   "execution_count": 14,
   "metadata": {},
   "outputs": [
    {
     "data": {
      "text/plain": [
       "<seaborn.axisgrid.PairGrid at 0x7ff80d908d00>"
      ]
     },
     "execution_count": 14,
     "metadata": {},
     "output_type": "execute_result"
    },
    {
     "data": {
      "image/png": "[encoded data removed]",
      "text/plain": [
       "<Figure size 540x540 with 12 Axes>"
      ]
     },
     "metadata": {
      "needs_background": "light"
     },
     "output_type": "display_data"
    }
   ],
   "source": [
    "sns.pairplot(cookies[['quality', 'bake time', 'bake temp']])"
   ]
  },
  {
   "cell_type": "code",
   "execution_count": 19,
   "metadata": {},
   "outputs": [
    {
     "name": "stderr",
     "output_type": "stream",
     "text": [
      "<ipython-input-19-2baf936c2286>:2: DeprecationWarning: `np.bool` is a deprecated alias for the builtin `bool`. To silence this warning, use `bool` by itself. Doing this will not modify any behavior and is safe. If you specifically wanted the numpy scalar type, use `np.bool_` here.\n",
      "Deprecated in NumPy 1.20; for more details and guidance: https://numpy.org/devdocs/release/1.20.0-notes.html#deprecations\n",
      "  mask = np.triu(np.ones_like(cookies.corr(), dtype=np.bool))\n"
     ]
    },
    {
     "data": {
      "image/png": "[encoded data removed]",
      "text/plain": [
       "<Figure size 1152x432 with 2 Axes>"
      ]
     },
     "metadata": {
      "needs_background": "light"
     },
     "output_type": "display_data"
    }
   ],
   "source": [
    "# checking collarity\n",
    "\n",
    "plt.figure(figsize=(16, 6))\n",
    "mask = np.triu(np.ones_like(cookies.corr(), dtype=np.bool))\n",
    "heatmap = sns.heatmap(cookies.corr(), mask=mask, vmin=-1, vmax=1, annot=True, cmap='BrBG')"
   ]
  },
  {
   "cell_type": "code",
   "execution_count": 20,
   "metadata": {},
   "outputs": [
    {
     "name": "stdout",
     "output_type": "stream",
     "text": [
      "sugar to flour ratio --> 0.1821346059774523\n",
      "sugar index --> 0.220653522443354\n",
      "bake temp --> -0.4705037090124243\n",
      "chill time --> 0.3646530350431328\n",
      "calories --> 0.4398363987447586\n",
      "density --> -0.021995308762374953\n",
      "pH --> -0.11472101703648839\n",
      "grams baking soda --> -0.305340383089796\n",
      "bake time --> 0.31530707105261135\n",
      "quality --> 1.0\n",
      "weight --> -0.32829940172664246\n",
      "diameter --> nan\n",
      "crunch factor --> 0.0072620504400501195\n",
      "aesthetic appeal --> 0.0001514226612548425\n"
     ]
    }
   ],
   "source": [
    "#pulling the number columns for future ML uses\n",
    "\n",
    "num_cols = cookies.select_dtypes(include=[\"int64\", \"float64\"]).columns\n",
    "\n",
    "for column in num_cols:\n",
    "    print(column, '-->', cookies['quality'].corr(cookies[column]))"
   ]
  },
  {
   "cell_type": "markdown",
   "metadata": {},
   "source": [
    "## butter"
   ]
  },
  {
   "cell_type": "code",
   "execution_count": 21,
   "metadata": {},
   "outputs": [
    {
     "data": {
      "text/plain": [
       "melted    3920\n",
       "cubed     1278\n",
       "Name: butter type, dtype: int64"
      ]
     },
     "execution_count": 21,
     "metadata": {},
     "output_type": "execute_result"
    }
   ],
   "source": [
    "cookies['butter type'].value_counts()"
   ]
  },
  {
   "cell_type": "markdown",
   "metadata": {},
   "source": [
    "## aesthetic appeal"
   ]
  },
  {
   "cell_type": "code",
   "execution_count": 22,
   "metadata": {},
   "outputs": [
    {
     "data": {
      "text/plain": [
       "3    5195\n",
       "4       3\n",
       "Name: aesthetic appeal, dtype: int64"
      ]
     },
     "execution_count": 22,
     "metadata": {},
     "output_type": "execute_result"
    }
   ],
   "source": [
    "cookies['aesthetic appeal'].value_counts()\n"
   ]
  },
  {
   "cell_type": "markdown",
   "metadata": {},
   "source": [
    "Thoughts on aesthetics : \n",
    "    not many values - drop column \n",
    "    \n",
    "    # also drop butter? does how it's melted make a difference?"
   ]
  },
  {
   "cell_type": "markdown",
   "metadata": {},
   "source": [
    "## weight"
   ]
  },
  {
   "cell_type": "code",
   "execution_count": 23,
   "metadata": {},
   "outputs": [
    {
     "data": {
      "text/plain": [
       "count    5198.000000\n",
       "mean       14.381935\n",
       "std         3.023740\n",
       "min       -99.000000\n",
       "25%        12.800000\n",
       "50%        14.000000\n",
       "75%        15.400000\n",
       "max        31.800000\n",
       "Name: weight, dtype: float64"
      ]
     },
     "execution_count": 23,
     "metadata": {},
     "output_type": "execute_result"
    }
   ],
   "source": [
    "cookies['weight'].describe()"
   ]
  },
  {
   "cell_type": "code",
   "execution_count": 24,
   "metadata": {},
   "outputs": [
    {
     "data": {
      "text/plain": [
       "array([ 15.2,  12.4,   9.4,  12.2,  19.8,  13.2,  14.2,  13.8,  12.6,\n",
       "        12.8,  13. ,  14. ,  12. ,  14.6,  15.6,  13.4,  16.8,  14.8,\n",
       "        13.6,  16. ,  11. ,  18.6,  10.6,  18.2,  15.8,  17.2,  14.3,\n",
       "        10.4,  11.8,  11.6,  15.4,  21.6,  20.2,  14.4,  12.3,  23.8,\n",
       "        11.2,  11.4,  15. ,  19.6,  17.4,  16.4,  19.2,  10.8,  18. ,\n",
       "        26. ,  16.6,  16.2,  19. ,  10. ,  21.4,  20.4,  17. ,  31.2,\n",
       "        17.8,  22.6,   9.8,  23. ,  18.8,  26.6,  20.8,  26.4,  10.2,\n",
       "        22.2,  23.4,  18.4,  17.6,  28.4,  24.6,  20.6,  25. ,  24.2,\n",
       "        22.8,  24. ,  23.2,  24.4,  26.8,  22.4,  19.4,  23.6,  27.4,\n",
       "        28. ,  22. ,  21.8,  25.2,  25.8,  20. ,  21.2,  21. , -99. ,\n",
       "        25.6,  31. ,   9. ,  24.8,  25.4,   9.6,   8.8,  30. ,  12.9,\n",
       "         9.2,  31.8,   7.6,   7.8,   8.4,  28.6])"
      ]
     },
     "execution_count": 24,
     "metadata": {},
     "output_type": "execute_result"
    }
   ],
   "source": [
    "cookies['weight'].unique()"
   ]
  },
  {
   "cell_type": "markdown",
   "metadata": {},
   "source": [
    "Thoughts on weight : \n",
    "\n",
    "    Remove -99 value"
   ]
  },
  {
   "cell_type": "markdown",
   "metadata": {},
   "source": [
    "## diameter"
   ]
  },
  {
   "cell_type": "code",
   "execution_count": 25,
   "metadata": {},
   "outputs": [
    {
     "data": {
      "text/plain": [
       "array([7])"
      ]
     },
     "execution_count": 25,
     "metadata": {},
     "output_type": "execute_result"
    }
   ],
   "source": [
    "cookies['diameter'].unique()"
   ]
  },
  {
   "cell_type": "markdown",
   "metadata": {},
   "source": [
    "Thoughts on diameter : \n",
    "\n",
    "    All equal to 7 - column can be dropped "
   ]
  },
  {
   "cell_type": "markdown",
   "metadata": {},
   "source": [
    "## bake time"
   ]
  },
  {
   "cell_type": "code",
   "execution_count": 26,
   "metadata": {},
   "outputs": [
    {
     "data": {
      "text/plain": [
       "count    5188.000000\n",
       "mean       10.494758\n",
       "std         1.194584\n",
       "min         8.000000\n",
       "25%         9.500000\n",
       "50%        10.300000\n",
       "75%        11.300000\n",
       "max        14.900000\n",
       "Name: bake time, dtype: float64"
      ]
     },
     "execution_count": 26,
     "metadata": {},
     "output_type": "execute_result"
    }
   ],
   "source": [
    "cookies['bake time'].describe()"
   ]
  },
  {
   "cell_type": "code",
   "execution_count": 27,
   "metadata": {},
   "outputs": [
    {
     "data": {
      "text/plain": [
       "13       7\n",
       "173      8\n",
       "484     10\n",
       "816      7\n",
       "1562     8\n",
       "1867     7\n",
       "1933     7\n",
       "2215     9\n",
       "2910     6\n",
       "3746    10\n",
       "Name: quality, dtype: int64"
      ]
     },
     "execution_count": 27,
     "metadata": {},
     "output_type": "execute_result"
    }
   ],
   "source": [
    "cookies[cookies['bake time'].isnull()]['quality']"
   ]
  },
  {
   "cell_type": "markdown",
   "metadata": {},
   "source": [
    "Thoughts on Bake time \n",
    "\n",
    "    judging by the spread of nulls across quality bands, any missing values could be replaced by mean or rows dropped "
   ]
  },
  {
   "cell_type": "markdown",
   "metadata": {},
   "source": [
    "## crunch factor"
   ]
  },
  {
   "cell_type": "code",
   "execution_count": 28,
   "metadata": {},
   "outputs": [
    {
     "data": {
      "text/plain": [
       "<AxesSubplot:ylabel='Frequency'>"
      ]
     },
     "execution_count": 28,
     "metadata": {},
     "output_type": "execute_result"
    },
    {
     "data": {
      "image/png": "[encoded data removed]",
      "text/plain": [
       "<Figure size 432x288 with 1 Axes>"
      ]
     },
     "metadata": {
      "needs_background": "light"
     },
     "output_type": "display_data"
    }
   ],
   "source": [
    "cookies['crunch factor'].plot.hist()"
   ]
  },
  {
   "cell_type": "markdown",
   "metadata": {},
   "source": [
    "## mixins"
   ]
  },
  {
   "cell_type": "code",
   "execution_count": 29,
   "metadata": {},
   "outputs": [
    {
     "name": "stdout",
     "output_type": "stream",
     "text": [
      "<class 'pandas.core.frame.DataFrame'>\n",
      "RangeIndex: 5198 entries, 0 to 5197\n",
      "Data columns (total 16 columns):\n",
      " #   Column                Non-Null Count  Dtype  \n",
      "---  ------                --------------  -----  \n",
      " 0   sugar to flour ratio  5198 non-null   float64\n",
      " 1   sugar index           5193 non-null   float64\n",
      " 2   bake temp             5198 non-null   int64  \n",
      " 3   chill time            5198 non-null   float64\n",
      " 4   calories              5198 non-null   float64\n",
      " 5   density               5198 non-null   float64\n",
      " 6   pH                    5198 non-null   float64\n",
      " 7   grams baking soda     5198 non-null   float64\n",
      " 8   bake time             5188 non-null   float64\n",
      " 9   quality               5198 non-null   int64  \n",
      " 10  butter type           5198 non-null   object \n",
      " 11  weight                5198 non-null   float64\n",
      " 12  diameter              5198 non-null   int64  \n",
      " 13  mixins                5196 non-null   object \n",
      " 14  crunch factor         5198 non-null   float64\n",
      " 15  aesthetic appeal      5198 non-null   int64  \n",
      "dtypes: float64(10), int64(4), object(2)\n",
      "memory usage: 649.9+ KB\n"
     ]
    }
   ],
   "source": [
    "cookies.info()"
   ]
  },
  {
   "cell_type": "code",
   "execution_count": 30,
   "metadata": {},
   "outputs": [
    {
     "data": {
      "text/plain": [
       "0                     raisins\n",
       "1                     raisins\n",
       "2             nuts, chocolate\n",
       "3                   chocolate\n",
       "4       nuts, oats, chocolate\n",
       "                ...          \n",
       "5193            peanut butter\n",
       "5194                  raisins\n",
       "5195          chocolate, oats\n",
       "5196                chocolate\n",
       "5197                chocolate\n",
       "Name: mixins, Length: 5198, dtype: object"
      ]
     },
     "execution_count": 30,
     "metadata": {},
     "output_type": "execute_result"
    }
   ],
   "source": [
    "cookies['mixins']"
   ]
  },
  {
   "cell_type": "code",
   "execution_count": 31,
   "metadata": {},
   "outputs": [
    {
     "data": {
      "text/plain": [
       "array(['raisins', 'nuts, chocolate', 'chocolate', 'nuts, oats, chocolate',\n",
       "       'chocolate, oats', 'raisins, oats', 'nuts,raisins', 'nuts, oats',\n",
       "       'chocolate, peanut butter', 'chocolate, oats, peanut butter',\n",
       "       'peanut butter', nan, 'peanut butter, raisins', 'oats'],\n",
       "      dtype=object)"
      ]
     },
     "execution_count": 31,
     "metadata": {},
     "output_type": "execute_result"
    }
   ],
   "source": [
    "cookies['mixins'].unique()"
   ]
  },
  {
   "cell_type": "code",
   "execution_count": 32,
   "metadata": {},
   "outputs": [
    {
     "data": {
      "text/plain": [
       "13"
      ]
     },
     "execution_count": 32,
     "metadata": {},
     "output_type": "execute_result"
    }
   ],
   "source": [
    "cookies['mixins'].nunique()"
   ]
  },
  {
   "cell_type": "markdown",
   "metadata": {},
   "source": [
    "### Wrangling the data / making small changes "
   ]
  },
  {
   "cell_type": "code",
   "execution_count": 33,
   "metadata": {},
   "outputs": [],
   "source": [
    "cookies.drop(columns=[\"aesthetic appeal\", \"diameter\"], inplace=True)"
   ]
  },
  {
   "cell_type": "code",
   "execution_count": 34,
   "metadata": {},
   "outputs": [],
   "source": [
    "cookies=cookies.dropna(subset=['mixins'])"
   ]
  },
  {
   "cell_type": "code",
   "execution_count": 35,
   "metadata": {},
   "outputs": [],
   "source": [
    "cookies.reset_index(drop=True, inplace=True)"
   ]
  },
  {
   "cell_type": "code",
   "execution_count": 36,
   "metadata": {},
   "outputs": [
    {
     "name": "stderr",
     "output_type": "stream",
     "text": [
      "<ipython-input-36-34c1b52f070e>:1: SettingWithCopyWarning: \n",
      "A value is trying to be set on a copy of a slice from a DataFrame.\n",
      "Try using .loc[row_indexer,col_indexer] = value instead\n",
      "\n",
      "See the caveats in the documentation: https://pandas.pydata.org/pandas-docs/stable/user_guide/indexing.html#returning-a-view-versus-a-copy\n",
      "  cookies['chocolate'] = 0\n",
      "<ipython-input-36-34c1b52f070e>:2: SettingWithCopyWarning: \n",
      "A value is trying to be set on a copy of a slice from a DataFrame.\n",
      "Try using .loc[row_indexer,col_indexer] = value instead\n",
      "\n",
      "See the caveats in the documentation: https://pandas.pydata.org/pandas-docs/stable/user_guide/indexing.html#returning-a-view-versus-a-copy\n",
      "  cookies['raisins'] = 0\n",
      "<ipython-input-36-34c1b52f070e>:3: SettingWithCopyWarning: \n",
      "A value is trying to be set on a copy of a slice from a DataFrame.\n",
      "Try using .loc[row_indexer,col_indexer] = value instead\n",
      "\n",
      "See the caveats in the documentation: https://pandas.pydata.org/pandas-docs/stable/user_guide/indexing.html#returning-a-view-versus-a-copy\n",
      "  cookies['oats'] = 0\n",
      "<ipython-input-36-34c1b52f070e>:4: SettingWithCopyWarning: \n",
      "A value is trying to be set on a copy of a slice from a DataFrame.\n",
      "Try using .loc[row_indexer,col_indexer] = value instead\n",
      "\n",
      "See the caveats in the documentation: https://pandas.pydata.org/pandas-docs/stable/user_guide/indexing.html#returning-a-view-versus-a-copy\n",
      "  cookies['nuts'] = 0\n",
      "<ipython-input-36-34c1b52f070e>:5: SettingWithCopyWarning: \n",
      "A value is trying to be set on a copy of a slice from a DataFrame.\n",
      "Try using .loc[row_indexer,col_indexer] = value instead\n",
      "\n",
      "See the caveats in the documentation: https://pandas.pydata.org/pandas-docs/stable/user_guide/indexing.html#returning-a-view-versus-a-copy\n",
      "  cookies['peanut butter'] = 0\n"
     ]
    }
   ],
   "source": [
    "cookies['chocolate'] = 0\n",
    "cookies['raisins'] = 0\n",
    "cookies['oats'] = 0\n",
    "cookies['nuts'] = 0\n",
    "cookies['peanut butter'] = 0"
   ]
  },
  {
   "cell_type": "code",
   "execution_count": 37,
   "metadata": {},
   "outputs": [
    {
     "data": {
      "text/html": [
       "<div>\n",
       "<style scoped>\n",
       "    .dataframe tbody tr th:only-of-type {\n",
       "        vertical-align: middle;\n",
       "    }\n",
       "\n",
       "    .dataframe tbody tr th {\n",
       "        vertical-align: top;\n",
       "    }\n",
       "\n",
       "    .dataframe thead th {\n",
       "        text-align: right;\n",
       "    }\n",
       "</style>\n",
       "<table border=\"1\" class=\"dataframe\">\n",
       "  <thead>\n",
       "    <tr style=\"text-align: right;\">\n",
       "      <th></th>\n",
       "      <th>sugar to flour ratio</th>\n",
       "      <th>sugar index</th>\n",
       "      <th>bake temp</th>\n",
       "      <th>chill time</th>\n",
       "      <th>calories</th>\n",
       "      <th>density</th>\n",
       "      <th>pH</th>\n",
       "      <th>grams baking soda</th>\n",
       "      <th>bake time</th>\n",
       "      <th>quality</th>\n",
       "      <th>butter type</th>\n",
       "      <th>weight</th>\n",
       "      <th>mixins</th>\n",
       "      <th>crunch factor</th>\n",
       "      <th>chocolate</th>\n",
       "      <th>raisins</th>\n",
       "      <th>oats</th>\n",
       "      <th>nuts</th>\n",
       "      <th>peanut butter</th>\n",
       "    </tr>\n",
       "  </thead>\n",
       "  <tbody>\n",
       "    <tr>\n",
       "      <th>0</th>\n",
       "      <td>0.25</td>\n",
       "      <td>9.5</td>\n",
       "      <td>300</td>\n",
       "      <td>15.0</td>\n",
       "      <td>136.0</td>\n",
       "      <td>0.99367</td>\n",
       "      <td>8.10</td>\n",
       "      <td>0.44</td>\n",
       "      <td>12.1</td>\n",
       "      <td>8</td>\n",
       "      <td>melted</td>\n",
       "      <td>15.2</td>\n",
       "      <td>raisins</td>\n",
       "      <td>1.30</td>\n",
       "      <td>0</td>\n",
       "      <td>0</td>\n",
       "      <td>0</td>\n",
       "      <td>0</td>\n",
       "      <td>0</td>\n",
       "    </tr>\n",
       "    <tr>\n",
       "      <th>1</th>\n",
       "      <td>0.23</td>\n",
       "      <td>3.3</td>\n",
       "      <td>520</td>\n",
       "      <td>34.0</td>\n",
       "      <td>113.0</td>\n",
       "      <td>0.99429</td>\n",
       "      <td>8.16</td>\n",
       "      <td>0.48</td>\n",
       "      <td>8.4</td>\n",
       "      <td>7</td>\n",
       "      <td>melted</td>\n",
       "      <td>12.4</td>\n",
       "      <td>raisins</td>\n",
       "      <td>1.71</td>\n",
       "      <td>0</td>\n",
       "      <td>0</td>\n",
       "      <td>0</td>\n",
       "      <td>0</td>\n",
       "      <td>0</td>\n",
       "    </tr>\n",
       "    <tr>\n",
       "      <th>2</th>\n",
       "      <td>0.18</td>\n",
       "      <td>1.9</td>\n",
       "      <td>360</td>\n",
       "      <td>33.0</td>\n",
       "      <td>106.0</td>\n",
       "      <td>0.98746</td>\n",
       "      <td>8.21</td>\n",
       "      <td>0.83</td>\n",
       "      <td>14.0</td>\n",
       "      <td>9</td>\n",
       "      <td>melted</td>\n",
       "      <td>9.4</td>\n",
       "      <td>nuts, chocolate</td>\n",
       "      <td>1.78</td>\n",
       "      <td>0</td>\n",
       "      <td>0</td>\n",
       "      <td>0</td>\n",
       "      <td>0</td>\n",
       "      <td>0</td>\n",
       "    </tr>\n",
       "    <tr>\n",
       "      <th>3</th>\n",
       "      <td>0.18</td>\n",
       "      <td>10.5</td>\n",
       "      <td>490</td>\n",
       "      <td>41.0</td>\n",
       "      <td>124.0</td>\n",
       "      <td>0.99630</td>\n",
       "      <td>8.14</td>\n",
       "      <td>0.35</td>\n",
       "      <td>10.5</td>\n",
       "      <td>7</td>\n",
       "      <td>melted</td>\n",
       "      <td>12.2</td>\n",
       "      <td>chocolate</td>\n",
       "      <td>1.59</td>\n",
       "      <td>0</td>\n",
       "      <td>0</td>\n",
       "      <td>0</td>\n",
       "      <td>0</td>\n",
       "      <td>0</td>\n",
       "    </tr>\n",
       "    <tr>\n",
       "      <th>4</th>\n",
       "      <td>0.24</td>\n",
       "      <td>2.4</td>\n",
       "      <td>770</td>\n",
       "      <td>6.0</td>\n",
       "      <td>33.0</td>\n",
       "      <td>0.99740</td>\n",
       "      <td>8.09</td>\n",
       "      <td>0.57</td>\n",
       "      <td>9.4</td>\n",
       "      <td>5</td>\n",
       "      <td>cubed</td>\n",
       "      <td>19.8</td>\n",
       "      <td>nuts, oats, chocolate</td>\n",
       "      <td>1.30</td>\n",
       "      <td>0</td>\n",
       "      <td>0</td>\n",
       "      <td>0</td>\n",
       "      <td>0</td>\n",
       "      <td>0</td>\n",
       "    </tr>\n",
       "  </tbody>\n",
       "</table>\n",
       "</div>"
      ],
      "text/plain": [
       "   sugar to flour ratio  sugar index  bake temp  chill time  calories  \\\n",
       "0                  0.25          9.5        300        15.0     136.0   \n",
       "1                  0.23          3.3        520        34.0     113.0   \n",
       "2                  0.18          1.9        360        33.0     106.0   \n",
       "3                  0.18         10.5        490        41.0     124.0   \n",
       "4                  0.24          2.4        770         6.0      33.0   \n",
       "\n",
       "   density    pH  grams baking soda  bake time  quality butter type  weight  \\\n",
       "0  0.99367  8.10               0.44       12.1        8      melted    15.2   \n",
       "1  0.99429  8.16               0.48        8.4        7      melted    12.4   \n",
       "2  0.98746  8.21               0.83       14.0        9      melted     9.4   \n",
       "3  0.99630  8.14               0.35       10.5        7      melted    12.2   \n",
       "4  0.99740  8.09               0.57        9.4        5       cubed    19.8   \n",
       "\n",
       "                  mixins  crunch factor  chocolate  raisins  oats  nuts  \\\n",
       "0                raisins           1.30          0        0     0     0   \n",
       "1                raisins           1.71          0        0     0     0   \n",
       "2        nuts, chocolate           1.78          0        0     0     0   \n",
       "3              chocolate           1.59          0        0     0     0   \n",
       "4  nuts, oats, chocolate           1.30          0        0     0     0   \n",
       "\n",
       "   peanut butter  \n",
       "0              0  \n",
       "1              0  \n",
       "2              0  \n",
       "3              0  \n",
       "4              0  "
      ]
     },
     "execution_count": 37,
     "metadata": {},
     "output_type": "execute_result"
    }
   ],
   "source": [
    "cookies.head()"
   ]
  },
  {
   "cell_type": "code",
   "execution_count": 38,
   "metadata": {},
   "outputs": [
    {
     "name": "stderr",
     "output_type": "stream",
     "text": [
      "/Users/samkatterfield/opt/miniconda3/lib/python3.8/site-packages/pandas/core/indexing.py:1720: SettingWithCopyWarning: \n",
      "A value is trying to be set on a copy of a slice from a DataFrame.\n",
      "Try using .loc[row_indexer,col_indexer] = value instead\n",
      "\n",
      "See the caveats in the documentation: https://pandas.pydata.org/pandas-docs/stable/user_guide/indexing.html#returning-a-view-versus-a-copy\n",
      "  self._setitem_single_column(loc, value, pi)\n"
     ]
    }
   ],
   "source": [
    "mixins = ['chocolate', 'raisins', 'oats', 'nuts', 'peanut butter']\n",
    "for mix in mixins:\n",
    "    for i in range(len(cookies)):\n",
    "        if mix in [x.strip() for x in cookies.loc[i, 'mixins'].split(',')]:\n",
    "            cookies.loc[i, mix] = 1"
   ]
  },
  {
   "cell_type": "code",
   "execution_count": 39,
   "metadata": {},
   "outputs": [
    {
     "name": "stderr",
     "output_type": "stream",
     "text": [
      "/Users/samkatterfield/opt/miniconda3/lib/python3.8/site-packages/pandas/core/frame.py:4308: SettingWithCopyWarning: \n",
      "A value is trying to be set on a copy of a slice from a DataFrame\n",
      "\n",
      "See the caveats in the documentation: https://pandas.pydata.org/pandas-docs/stable/user_guide/indexing.html#returning-a-view-versus-a-copy\n",
      "  return super().drop(\n"
     ]
    }
   ],
   "source": [
    "cookies.drop(columns=[\"mixins\"], inplace=True)"
   ]
  },
  {
   "cell_type": "code",
   "execution_count": 40,
   "metadata": {},
   "outputs": [
    {
     "name": "stderr",
     "output_type": "stream",
     "text": [
      "<ipython-input-40-2baf936c2286>:2: DeprecationWarning: `np.bool` is a deprecated alias for the builtin `bool`. To silence this warning, use `bool` by itself. Doing this will not modify any behavior and is safe. If you specifically wanted the numpy scalar type, use `np.bool_` here.\n",
      "Deprecated in NumPy 1.20; for more details and guidance: https://numpy.org/devdocs/release/1.20.0-notes.html#deprecations\n",
      "  mask = np.triu(np.ones_like(cookies.corr(), dtype=np.bool))\n"
     ]
    },
    {
     "data": {
      "image/png": "[encoded data removed]",
      "text/plain": [
       "<Figure size 1152x432 with 2 Axes>"
      ]
     },
     "metadata": {
      "needs_background": "light"
     },
     "output_type": "display_data"
    }
   ],
   "source": [
    "plt.figure(figsize=(16, 6))\n",
    "mask = np.triu(np.ones_like(cookies.corr(), dtype=np.bool))\n",
    "heatmap = sns.heatmap(cookies.corr(), mask=mask, vmin=-1, vmax=1, annot=True, cmap='BrBG')"
   ]
  },
  {
   "cell_type": "markdown",
   "metadata": {},
   "source": [
    "### pre processing- drop NANs and deal with non numerical data\n"
   ]
  },
  {
   "cell_type": "code",
   "execution_count": 41,
   "metadata": {},
   "outputs": [
    {
     "data": {
      "text/plain": [
       "sugar to flour ratio    float64\n",
       "sugar index             float64\n",
       "bake temp                 int64\n",
       "chill time              float64\n",
       "calories                float64\n",
       "density                 float64\n",
       "pH                      float64\n",
       "grams baking soda       float64\n",
       "bake time               float64\n",
       "quality                   int64\n",
       "butter type              object\n",
       "weight                  float64\n",
       "crunch factor           float64\n",
       "chocolate                 int64\n",
       "raisins                   int64\n",
       "oats                      int64\n",
       "nuts                      int64\n",
       "peanut butter             int64\n",
       "dtype: object"
      ]
     },
     "execution_count": 41,
     "metadata": {},
     "output_type": "execute_result"
    }
   ],
   "source": [
    "cookies.dtypes"
   ]
  },
  {
   "cell_type": "code",
   "execution_count": 42,
   "metadata": {},
   "outputs": [],
   "source": [
    "cookies=pd.get_dummies(cookies, columns=['butter type'])\n"
   ]
  },
  {
   "cell_type": "code",
   "execution_count": 43,
   "metadata": {},
   "outputs": [
    {
     "name": "stdout",
     "output_type": "stream",
     "text": [
      "<class 'pandas.core.frame.DataFrame'>\n",
      "RangeIndex: 5196 entries, 0 to 5195\n",
      "Data columns (total 19 columns):\n",
      " #   Column                Non-Null Count  Dtype  \n",
      "---  ------                --------------  -----  \n",
      " 0   sugar to flour ratio  5196 non-null   float64\n",
      " 1   sugar index           5191 non-null   float64\n",
      " 2   bake temp             5196 non-null   int64  \n",
      " 3   chill time            5196 non-null   float64\n",
      " 4   calories              5196 non-null   float64\n",
      " 5   density               5196 non-null   float64\n",
      " 6   pH                    5196 non-null   float64\n",
      " 7   grams baking soda     5196 non-null   float64\n",
      " 8   bake time             5186 non-null   float64\n",
      " 9   quality               5196 non-null   int64  \n",
      " 10  weight                5196 non-null   float64\n",
      " 11  crunch factor         5196 non-null   float64\n",
      " 12  chocolate             5196 non-null   int64  \n",
      " 13  raisins               5196 non-null   int64  \n",
      " 14  oats                  5196 non-null   int64  \n",
      " 15  nuts                  5196 non-null   int64  \n",
      " 16  peanut butter         5196 non-null   int64  \n",
      " 17  butter type_cubed     5196 non-null   uint8  \n",
      " 18  butter type_melted    5196 non-null   uint8  \n",
      "dtypes: float64(10), int64(7), uint8(2)\n",
      "memory usage: 700.4 KB\n"
     ]
    }
   ],
   "source": [
    "cookies.info()"
   ]
  },
  {
   "cell_type": "code",
   "execution_count": 44,
   "metadata": {},
   "outputs": [],
   "source": [
    "cookies = cookies.dropna()"
   ]
  },
  {
   "cell_type": "code",
   "execution_count": 45,
   "metadata": {},
   "outputs": [],
   "source": [
    "cookies.reset_index(drop=True, inplace=True)"
   ]
  },
  {
   "cell_type": "markdown",
   "metadata": {},
   "source": [
    "### Split data into dependent and independent variables "
   ]
  },
  {
   "cell_type": "code",
   "execution_count": 46,
   "metadata": {},
   "outputs": [],
   "source": [
    "X= cookies.drop(columns=\"quality\")\n",
    "y=cookies.quality"
   ]
  },
  {
   "cell_type": "markdown",
   "metadata": {},
   "source": [
    "### Preprocessing - scaling "
   ]
  },
  {
   "cell_type": "code",
   "execution_count": 47,
   "metadata": {},
   "outputs": [],
   "source": [
    "from sklearn.preprocessing import StandardScaler\n",
    "\n",
    "scaler = StandardScaler()\n",
    "\n",
    "X_scaled = scaler.fit_transform(X)"
   ]
  },
  {
   "cell_type": "markdown",
   "metadata": {},
   "source": [
    "### Train test split"
   ]
  },
  {
   "cell_type": "code",
   "execution_count": 48,
   "metadata": {},
   "outputs": [],
   "source": [
    "from sklearn.model_selection import train_test_split\n",
    "\n",
    "X_train, X_test, y_train, y_test = train_test_split( X_scaled, y, test_size=0.1, random_state=40)\n"
   ]
  },
  {
   "cell_type": "markdown",
   "metadata": {},
   "source": [
    "### get model, fit, make predictions  AND evaluate"
   ]
  },
  {
   "cell_type": "code",
   "execution_count": 49,
   "metadata": {},
   "outputs": [],
   "source": [
    "from sklearn import linear_model\n",
    "from sklearn.metrics import mean_squared_error, r2_score"
   ]
  },
  {
   "cell_type": "code",
   "execution_count": 50,
   "metadata": {},
   "outputs": [],
   "source": [
    "lm = linear_model.LinearRegression()\n",
    "model = lm.fit(X_train,y_train)"
   ]
  },
  {
   "cell_type": "code",
   "execution_count": 51,
   "metadata": {},
   "outputs": [],
   "source": [
    "predictions  = lm.predict(X_test)"
   ]
  },
  {
   "cell_type": "code",
   "execution_count": 52,
   "metadata": {},
   "outputs": [
    {
     "data": {
      "text/plain": [
       "array([   7.87258072,    7.91771875,    7.99728812,    7.59543719,\n",
       "          7.36946762,    7.54555908,    6.29680171,    5.00894655,\n",
       "          7.95731305,    8.581827  ,    8.15093187,    7.3324341 ,\n",
       "          8.07034461,    8.27887586,    7.5472386 ,    7.11417161,\n",
       "          7.92028416,    8.58991383,    8.08492805,    5.5128639 ,\n",
       "          7.64220995,    7.87015418,    8.12417485,    8.52865226,\n",
       "          8.51131914,    7.03826782,    7.35752063,    6.73588101,\n",
       "          6.26292249,    8.51082477,    5.68614641,    5.75489192,\n",
       "          8.22851198,    7.21093688,    6.50725649,    6.4154661 ,\n",
       "          5.57686646,    8.15749093,    6.033516  ,    8.24742492,\n",
       "          8.03568269,    5.32259946,    7.58152587,    6.12310561,\n",
       "          5.06630945,    5.44778934,    7.58885775,    7.41331248,\n",
       "          7.75405879,    8.01229071,    7.53463982,    5.26852912,\n",
       "          6.72260451,    8.58429674,    6.08409235,    7.8727646 ,\n",
       "          7.6014881 ,    7.84494766,    8.61219176,    6.2124881 ,\n",
       "          5.29568144,    7.47161452,    7.74442387,    7.65252992,\n",
       "          7.85821911,    7.42412567,    7.54183045,    7.66082179,\n",
       "          7.51031952,    7.34870635,    7.49458254,    5.6230566 ,\n",
       "          7.43558495,    7.60142263,    4.90359702,    8.21906533,\n",
       "          7.54101892,    7.29027749,    7.63260927,    7.77498434,\n",
       "          7.59499342, -137.19430725,    7.70656279,    7.09388885,\n",
       "          5.84794948,    7.57788426,    7.89128603,    7.98122374,\n",
       "          8.18779659,    7.13988671,    5.4833479 ,    7.51018706,\n",
       "          6.5504749 ,    7.72237499,    5.6888665 ,    5.3128616 ,\n",
       "          7.97122637,    7.2407423 ,    7.52894261,    7.62139818,\n",
       "          5.30891557,    7.67451818,    8.2089916 ,    8.25721903,\n",
       "          8.50012876,    7.91388146,    7.50276933,    5.66834937,\n",
       "          7.78696274,    7.85789865,    8.18678782,    5.21019597,\n",
       "          7.49444397,    7.60003866,    7.36035366,    7.32253748,\n",
       "          5.85013014,    8.04297453,    7.54934356,    7.48794743,\n",
       "          7.13489775,    7.42992764,    8.15614666,    7.89637492,\n",
       "          7.77574851,    8.30547392,    8.6543528 ,    7.52781345,\n",
       "          7.24172099,    7.23879833,    6.49112946,    8.11603962,\n",
       "          5.14804769,    6.22390874,    5.42414733,    8.13612023,\n",
       "          9.07035437,    5.08113994,    5.51455726,    7.81045201,\n",
       "          6.2352423 ,    7.69211037,    7.21605807,    8.23973368,\n",
       "          7.70567185,    5.02553432,    8.11204725,    7.99273992,\n",
       "          8.70595241,    7.50444136,    7.58004417,    7.47023097,\n",
       "          7.74763311,    7.8508848 ,    8.03389415,    8.39911785,\n",
       "          7.42952239,    6.31784864,    7.41430917,    8.1053723 ,\n",
       "          8.18157532,    8.67009331,    7.96165889,    7.31711168,\n",
       "          7.83804195,    5.35845672,    5.93054781,    7.80017181,\n",
       "          5.31584243,    7.50111178,    8.67398104,    6.66394158,\n",
       "          8.75943537,    7.3930664 ,    7.47335905,    7.57324822,\n",
       "          7.95178345,    8.14536026,    7.81763055,    8.47436165,\n",
       "          7.58958863,    7.59691723,    5.69966197,    7.64598925,\n",
       "          7.5921203 ,    8.39908126,    7.79059459,    8.78400068,\n",
       "          7.91944637,    7.46991031,    7.60398084,    6.89597331,\n",
       "          7.59467322,    8.69240723,    5.89816625,    8.20074724,\n",
       "          7.50122991,    8.0050654 ,    7.33643521,    8.4917972 ,\n",
       "          7.8168768 ,    7.71173335,    8.25785632,    5.94259493,\n",
       "          7.42026151,    5.06678459,    7.86382443,    7.5827048 ,\n",
       "          7.303093  ,    8.93351217,    8.28905221,    7.48812206,\n",
       "          8.19452818,    7.99669197,    5.25266629,    7.79850068,\n",
       "          8.49785811,    8.81606321,    7.13160075,    8.53899861,\n",
       "          5.96008394,    7.57827712,    8.59462292,    5.9663169 ,\n",
       "          7.40884007,    7.2261293 ,    7.10550994,    7.94063764,\n",
       "          8.44768975,    8.14436369,    8.07233052,    7.35471792,\n",
       "          8.96179011,    5.07590525,    7.72317571,    7.6369344 ,\n",
       "          7.10514685,    5.36446978,    8.50926323,    7.539823  ,\n",
       "          6.19832075,    7.73639627,    7.63938522,    8.45018566,\n",
       "          5.1250838 ,    8.29118261,    8.29642721,    6.82848698,\n",
       "          5.39408712,    7.57238348,    5.28916468,    8.435902  ,\n",
       "          5.90760192,    7.68342311,    7.74750783,    8.31438536,\n",
       "          8.4270963 ,    7.78739589,    8.0843464 ,    7.69851834,\n",
       "          7.7849238 ,    7.64408301,    8.0038571 ,    7.76228363,\n",
       "          7.61897661,    8.1902901 ,    5.19339593,    8.38235202,\n",
       "          7.83040894,    8.19153628,    8.70665679,    6.13145185,\n",
       "          7.77782341,    8.34254487,    7.76225341,    7.78794569,\n",
       "          8.12340849,    5.51251953,    5.52768281,    5.64792694,\n",
       "          7.60958857,    7.72144125,    5.30542377,    7.82716166,\n",
       "          5.57336344,    7.81784497,    7.59584976,    8.7666984 ,\n",
       "          7.58402166,    7.51998411,    7.29711122,    6.21974957,\n",
       "          6.42779677,    7.35884045,    7.74649059,    8.03594148,\n",
       "          5.18180936,    7.80792137,    5.43843754,    7.81425473,\n",
       "          7.36859446,    8.54070687,    7.63989559,    8.34329959,\n",
       "          6.83457626,    7.95716857,    6.14863519,    7.97531714,\n",
       "          5.3733264 ,    8.16490368,    8.33116542,    6.61133611,\n",
       "          8.41219478,    7.62279873,    7.79197183,    7.79692201,\n",
       "          7.69647551,    8.13406583,    7.9628436 ,    5.41469824,\n",
       "          7.15733618,    8.13212772,    6.0797434 ,    5.29482802,\n",
       "          7.44183179,    5.87362383,    8.26986735,    7.7928391 ,\n",
       "          7.33059958,    8.09466873,    8.30685131,    7.84842772,\n",
       "          7.73701884,    5.14217601,    8.21248027,    7.25907815,\n",
       "          5.73355711,    7.0314737 ,    8.06829301,    7.98214549,\n",
       "          7.71251518,    7.74111079,    7.82985906,    8.40923923,\n",
       "          8.74357712,    8.02345782,    8.58642429,    7.98021746,\n",
       "          7.49296678,    5.40621506,    7.83245682,    7.91171082,\n",
       "          8.10930355,    7.53986539,    8.60479947,    7.89881495,\n",
       "          8.05462201,    7.66161367,    7.79994587,    7.19115804,\n",
       "          5.58602584,    8.56312398,    8.15527812,    4.91218724,\n",
       "          7.29551485,    5.47514984,    6.86458887,    8.96306248,\n",
       "          7.61522765,    7.39239694,    7.81745323,    5.31824639,\n",
       "          5.25374283,    7.52908635,    7.33944589,    8.31783185,\n",
       "          5.46999333,    7.50256327,    7.60685598,    7.65624041,\n",
       "          7.33404115,    7.46360444,    8.41039918,    7.9523058 ,\n",
       "          6.82903804,    7.7292269 ,    7.8903456 ,    7.81312404,\n",
       "          5.07221605,    8.0410615 ,    8.53632556,    6.09031511,\n",
       "          7.74905475,    8.19997344,    7.80546643,    7.64672904,\n",
       "          5.31024294,    7.99860111,    7.89262617,    8.21948092,\n",
       "          7.72802194,    5.35765901,    7.70044811,    5.39031441,\n",
       "          8.3623732 ,    5.10381965,    7.36073246,    8.23279877,\n",
       "          5.17706982,    7.9999478 ,    8.08082487,    7.53731002,\n",
       "          8.54781155,    5.36992416,    5.28763589,    5.4977831 ,\n",
       "          7.99516439,    6.15133505,    8.16216654,    5.65694517,\n",
       "          7.36140987,    8.00773137,    5.73313393,    8.2871739 ,\n",
       "          5.90412955,    7.52547704,    5.57366816,    7.93229872,\n",
       "          5.73714967,    7.99945026,    7.75039514,    5.28670904,\n",
       "          7.81728179,    8.0134868 ,    5.2458117 ,    8.19620854,\n",
       "          8.64099556,    5.32363362,    7.75609823,    7.61255308,\n",
       "          8.6373515 ,    7.89858002,    7.34898331,    8.1887722 ,\n",
       "          7.86949752,    8.10932856,    8.12159924,    6.45667469,\n",
       "          7.52513431,    7.48267716,    7.96096644,    7.31778722,\n",
       "          8.22419727,    7.99748258,    7.66573195,    8.35484288,\n",
       "          7.49521   ,    7.55181314,    8.31997975,    8.20630075,\n",
       "          5.24899433,    7.41767018,    7.4228082 ,    7.12913026,\n",
       "          5.29560217,    7.92048132,    5.21842645,    7.72226207,\n",
       "          8.69804293,    5.94908687,    6.97529994,    7.1301063 ,\n",
       "          7.8515978 ,    5.26789945,    7.25410499,    8.05972556,\n",
       "          7.5272688 ,    8.83693348,    6.06434163,    7.90577339,\n",
       "          5.51017172,    8.09293953,    8.07410462,    5.05814998,\n",
       "          7.93769772,    8.81431778,    8.07519388,    5.55164018,\n",
       "          8.07660308,    7.86207186,    7.54457669,    8.63137356,\n",
       "          7.84395526,    7.44328098,    7.5042891 ,    8.23073291,\n",
       "          5.77464421,    7.48096366,    8.18161818,    7.86082527,\n",
       "          7.58343812,    4.85059892,    8.52744217,    7.62060186,\n",
       "          5.19952189,    7.88680963,    7.1085832 ,    8.3094424 ,\n",
       "          5.76496884,    6.20326634,    7.38515603,    7.73041522,\n",
       "          7.29602805,    7.18290372,    8.46452909,    6.088355  ,\n",
       "          4.92748771,    7.00162345,    7.35131661])"
      ]
     },
     "execution_count": 52,
     "metadata": {},
     "output_type": "execute_result"
    }
   ],
   "source": [
    "predictions"
   ]
  },
  {
   "cell_type": "code",
   "execution_count": 53,
   "metadata": {},
   "outputs": [
    {
     "data": {
      "text/plain": [
       "-22.552442430677562"
      ]
     },
     "execution_count": 53,
     "metadata": {},
     "output_type": "execute_result"
    }
   ],
   "source": [
    "r2_score(y_test, predictions)"
   ]
  },
  {
   "cell_type": "code",
   "execution_count": 54,
   "metadata": {},
   "outputs": [
    {
     "name": "stdout",
     "output_type": "stream",
     "text": [
      "41.17832330288405\n"
     ]
    }
   ],
   "source": [
    "mse = mean_squared_error(y_test, predictions)\n",
    "print(mse)"
   ]
  },
  {
   "cell_type": "code",
   "execution_count": 55,
   "metadata": {},
   "outputs": [
    {
     "name": "stdout",
     "output_type": "stream",
     "text": [
      "6.417033839936022\n"
     ]
    }
   ],
   "source": [
    "import math \n",
    "rmse = math.sqrt(mse)\n",
    "print(rmse)"
   ]
  },
  {
   "cell_type": "markdown",
   "metadata": {},
   "source": [
    "### Make predictions on the cookies_validate dataset (without labels)"
   ]
  },
  {
   "cell_type": "code",
   "execution_count": 56,
   "metadata": {},
   "outputs": [],
   "source": [
    "cookies_val = pd.read_csv('cookies_validate.csv')"
   ]
  },
  {
   "cell_type": "code",
   "execution_count": 57,
   "metadata": {},
   "outputs": [
    {
     "name": "stdout",
     "output_type": "stream",
     "text": [
      "<class 'pandas.core.frame.DataFrame'>\n",
      "RangeIndex: 779 entries, 0 to 778\n",
      "Data columns (total 17 columns):\n",
      " #   Column                Non-Null Count  Dtype  \n",
      "---  ------                --------------  -----  \n",
      " 0   id                    779 non-null    int64  \n",
      " 1   sugar to flour ratio  779 non-null    float64\n",
      " 2   sugar index           779 non-null    float64\n",
      " 3   bake temp             779 non-null    float64\n",
      " 4   chill time            779 non-null    float64\n",
      " 5   calories              779 non-null    float64\n",
      " 6   density               779 non-null    float64\n",
      " 7   pH                    779 non-null    float64\n",
      " 8   grams baking soda     779 non-null    float64\n",
      " 9   bake time             779 non-null    float64\n",
      " 10  quality               779 non-null    int64  \n",
      " 11  butter type           779 non-null    object \n",
      " 12  weight                779 non-null    float64\n",
      " 13  diameter              779 non-null    int64  \n",
      " 14  mixins                779 non-null    object \n",
      " 15  crunch factor         779 non-null    float64\n",
      " 16  aesthetic appeal      779 non-null    int64  \n",
      "dtypes: float64(11), int64(4), object(2)\n",
      "memory usage: 103.6+ KB\n"
     ]
    }
   ],
   "source": [
    "cookies_val.info()"
   ]
  },
  {
   "cell_type": "code",
   "execution_count": 58,
   "metadata": {},
   "outputs": [],
   "source": [
    "cookies_val.drop(columns=[\"aesthetic appeal\", \"diameter\"], inplace=True)"
   ]
  },
  {
   "cell_type": "code",
   "execution_count": 59,
   "metadata": {},
   "outputs": [],
   "source": [
    "cookies_val['chocolate'] = 0\n",
    "cookies_val['raisins'] = 0\n",
    "cookies_val['oats'] = 0\n",
    "cookies_val['nuts'] = 0\n",
    "cookies_val['peanut butter'] = 0"
   ]
  },
  {
   "cell_type": "code",
   "execution_count": 60,
   "metadata": {},
   "outputs": [],
   "source": [
    "mixins = ['chocolate', 'raisins', 'oats', 'nuts', 'peanut butter']\n",
    "for mix in mixins:\n",
    "    for i in range(len(cookies_val)):\n",
    "        if mix in [x.strip() for x in cookies_val.loc[i, 'mixins'].split(',')]:\n",
    "            cookies_val.loc[i, mix] = 1\n",
    "            \n",
    "cookies_val.drop(columns=[\"mixins\"], inplace=True)"
   ]
  },
  {
   "cell_type": "code",
   "execution_count": 61,
   "metadata": {},
   "outputs": [],
   "source": [
    "cookies_val.drop(columns= 'id', inplace=True)"
   ]
  },
  {
   "cell_type": "code",
   "execution_count": 62,
   "metadata": {},
   "outputs": [],
   "source": [
    "cookies_val=pd.get_dummies(cookies_val, columns=['butter type'])"
   ]
  },
  {
   "cell_type": "code",
   "execution_count": 63,
   "metadata": {},
   "outputs": [
    {
     "name": "stdout",
     "output_type": "stream",
     "text": [
      "<class 'pandas.core.frame.DataFrame'>\n",
      "RangeIndex: 779 entries, 0 to 778\n",
      "Data columns (total 19 columns):\n",
      " #   Column                Non-Null Count  Dtype  \n",
      "---  ------                --------------  -----  \n",
      " 0   sugar to flour ratio  779 non-null    float64\n",
      " 1   sugar index           779 non-null    float64\n",
      " 2   bake temp             779 non-null    float64\n",
      " 3   chill time            779 non-null    float64\n",
      " 4   calories              779 non-null    float64\n",
      " 5   density               779 non-null    float64\n",
      " 6   pH                    779 non-null    float64\n",
      " 7   grams baking soda     779 non-null    float64\n",
      " 8   bake time             779 non-null    float64\n",
      " 9   quality               779 non-null    int64  \n",
      " 10  weight                779 non-null    float64\n",
      " 11  crunch factor         779 non-null    float64\n",
      " 12  chocolate             779 non-null    int64  \n",
      " 13  raisins               779 non-null    int64  \n",
      " 14  oats                  779 non-null    int64  \n",
      " 15  nuts                  779 non-null    int64  \n",
      " 16  peanut butter         779 non-null    int64  \n",
      " 17  butter type_cubed     779 non-null    uint8  \n",
      " 18  butter type_melted    779 non-null    uint8  \n",
      "dtypes: float64(11), int64(6), uint8(2)\n",
      "memory usage: 105.1 KB\n"
     ]
    }
   ],
   "source": [
    "cookies_val.info()"
   ]
  },
  {
   "cell_type": "code",
   "execution_count": 64,
   "metadata": {},
   "outputs": [],
   "source": [
    "X_val = cookies_val.drop(columns=\"quality\")"
   ]
  },
  {
   "cell_type": "code",
   "execution_count": 65,
   "metadata": {},
   "outputs": [],
   "source": [
    "X_val_scaled = scaler.fit_transform(X_val)"
   ]
  },
  {
   "cell_type": "code",
   "execution_count": 66,
   "metadata": {},
   "outputs": [],
   "source": [
    "predictions_val=lm.predict(X_val_scaled)"
   ]
  },
  {
   "cell_type": "code",
   "execution_count": 67,
   "metadata": {},
   "outputs": [
    {
     "data": {
      "text/plain": [
       "array([  4.21817735,   7.97002524,   5.73645256,   9.51268581,\n",
       "         5.44123213,   6.69094278,   8.50019825,   5.74263918,\n",
       "         7.83899812,   7.53124007,   6.61253016,   8.11696475,\n",
       "         7.32885399,   8.86958113,   9.8873583 ,   5.99365221,\n",
       "         4.61452105,   7.98945161,  10.5726779 ,   9.30998457,\n",
       "         8.81403807,   8.02009332,   9.61285216,   4.97518006,\n",
       "         5.75435267,   5.11601729,   7.29373223,   8.57275261,\n",
       "         5.08784944,   5.98532943,   8.35590727,   6.27208554,\n",
       "         5.17303016,   7.95305331,   9.11683099,   8.43684173,\n",
       "         9.69455136,   9.09887792,   6.48494351,   6.63172189,\n",
       "         8.83361792,   8.6528916 ,   8.12755921,   7.99373188,\n",
       "         6.08632621,   6.59395407,   6.39054881,   8.88412319,\n",
       "         4.22345648,   6.37750861,   5.20649747,   5.18216664,\n",
       "         7.65935903,   5.76083388,   3.97282079,   8.51859316,\n",
       "         4.88825584,   8.70545434,   9.58343857,   9.22245485,\n",
       "         6.64365484,   8.23045167,   7.35351669,   9.2949071 ,\n",
       "         7.59316618,   7.78716908,   5.27320838,   6.7980138 ,\n",
       "         7.26015442,   9.19464728,   7.62562181,  10.34582254,\n",
       "         7.15388399,   6.05198338,   8.38719397,   8.43891931,\n",
       "         8.35825811,   7.80899823,   6.05068697,   9.15502345,\n",
       "         3.88806014,   8.69117818,   7.27394972,   4.73279216,\n",
       "         7.19095387,   8.67975993,   8.67741532,   7.39148949,\n",
       "         6.05790876,   9.72514454,   7.91102491,   6.18973612,\n",
       "         7.12999259,   4.86750016,   8.14252533,   5.37128282,\n",
       "         7.53627727,   9.06703571,   5.88952667,   6.25739999,\n",
       "         9.22097296,   4.8651067 ,   9.12091156,   7.88945285,\n",
       "         8.19958359,   6.68762983,   5.75929606,   7.79353759,\n",
       "         6.16851288,   7.36605773,   8.37208272,   4.77119914,\n",
       "         5.66544291,   6.36801375,   4.35846735,   4.56130554,\n",
       "         5.9369021 ,   5.95009052,   9.75369595,   6.47445985,\n",
       "         8.53076295,   6.11764645,   8.40915481,   8.65896293,\n",
       "         7.80827873,   8.20119683,   6.0037397 ,   6.86119087,\n",
       "         7.22385431,   7.73743481,   4.97580717,   6.86068892,\n",
       "         4.44161046,   8.02432916,   6.14966648,   8.74308001,\n",
       "         4.88265331,   4.53329641,   4.5705838 ,   4.55973999,\n",
       "         8.22341669,   8.20700442,   8.32629786,   6.95914992,\n",
       "         4.91720257,   6.35452965,   3.98600148,   8.99442681,\n",
       "         8.53234918,  10.01543785,   6.43255802,   7.06332081,\n",
       "         6.88895953,   5.98266552,   6.35310709,   4.71316636,\n",
       "         5.99547074,   3.99415995,   9.47501536,   9.45061929,\n",
       "         9.52743554,   6.13869584,   5.1879124 ,   9.17821741,\n",
       "         5.90886236,   4.43260046,   8.1607974 ,   7.58484041,\n",
       "         4.5493059 ,   6.1404092 ,   4.83806714,   8.88531022,\n",
       "         6.71191624,   5.15146794,  10.06038887,   9.2939062 ,\n",
       "         7.85922778,   5.31762888,   6.67771189,   7.65279277,\n",
       "         7.15572214,   6.39346456,   5.09877373,   5.8928734 ,\n",
       "         6.39698762,   4.81002456,   8.47349558,   5.97285003,\n",
       "         2.92718661,   8.83993278,   6.56443132,   4.95855217,\n",
       "         8.48295751,   6.25151028,   8.10739569,   8.26060447,\n",
       "         4.79533283,   4.80822818,   9.6001111 ,   8.01910827,\n",
       "         6.11990009,  10.22700873,   9.87886994,   6.38345714,\n",
       "         9.33314813,   5.22163689,   5.30606588,   5.62684705,\n",
       "         4.5372683 ,   8.49021252,   5.27240778,   5.91033157,\n",
       "         9.21460213,   7.48080238,   3.86011026,   6.9925386 ,\n",
       "         7.00212156,   6.82687149,   3.5105356 ,   4.83517009,\n",
       "         4.8167063 ,   6.41020229,   6.40129121,   4.00320222,\n",
       "         7.0282383 ,   7.79008993,   6.43736408,   5.66610252,\n",
       "         6.59567433,   6.81200448,   6.32977738,   6.85156266,\n",
       "         4.92173267,   4.16249357,   6.72035743,   9.45132485,\n",
       "         9.42544352,   5.54894932,   9.76577622,   8.74259759,\n",
       "         6.59984451,   6.13375616,   5.10139501,   6.7100694 ,\n",
       "         5.33781795,   4.33896727,   6.61504442,   6.74230315,\n",
       "         6.34499372,   6.56649696,   4.5459215 ,   5.05471494,\n",
       "         6.34645154,   6.91144194,   6.03699597,   6.73684041,\n",
       "         3.98995872,   6.01073539,   8.59458243,   9.1576364 ,\n",
       "        11.07040825,   5.18091495,   6.33011588,   9.9452126 ,\n",
       "         8.35880167,   8.26298738,   4.56291094,   4.49046337,\n",
       "         8.89516705,   8.632146  ,   9.39329924,   6.25929727,\n",
       "         6.46052098,   7.28054497,  10.26266449,   6.00652403,\n",
       "         6.19152481,  10.75784656,  10.60804928,   9.49987268,\n",
       "         4.67432825,   6.68079884,   7.29791874,   9.46373023,\n",
       "         8.20957677,   8.83813671, -15.98896436,   4.29071921,\n",
       "        11.38015242,   6.00991785,   8.06235289,   8.61246315,\n",
       "         5.39281541,   5.33986381,   6.55605154,   9.99377828,\n",
       "        10.03507481,   6.61567377,   5.61075793,   7.30409767,\n",
       "         8.65124662,  10.4222822 ,   8.43250761,   4.68315991,\n",
       "         9.6770926 ,   8.71770382,  10.69760741,  10.51938898,\n",
       "         9.38086938,  10.08208462,  11.19934544,  10.75480802,\n",
       "         8.82417431,   7.96682272,  10.34179332,   4.52604047,\n",
       "         9.50505952,   7.23522555,  10.13454754,  10.08703123,\n",
       "         7.10045716,  10.06904663,  10.06171973,  10.09231198,\n",
       "         6.65972145,   6.82546489,  10.77412559,   6.83067119,\n",
       "         6.76021972,   7.02462698,   4.99820865,   8.77836003,\n",
       "         7.2501024 ,   9.51582025,  10.60395126,   7.26879313,\n",
       "         9.73969438,   9.63969033,  10.79088251,   8.08006459,\n",
       "         7.83149106,   7.33305234,   6.69488247,   7.38158506,\n",
       "         7.38451582,   7.02615078,  10.03672684,   5.14364236,\n",
       "         5.00487367,   7.71702925,   7.73105825,   7.68829286,\n",
       "         9.49963659,  10.67035018,   9.01826699,   7.7061705 ,\n",
       "         7.244746  ,   6.9991181 ,  10.92848846,   9.74383241,\n",
       "         9.46051453,  10.04652181,   7.8999269 ,   7.77406904,\n",
       "        10.05326256,   9.04171837,   6.77436327,   8.25214106,\n",
       "         9.6488108 ,   8.29096313,  10.51021523,  10.51986078,\n",
       "        10.1131594 ,   8.52191146,   4.64519664,  10.60160819,\n",
       "         4.46603088,   9.18639149,  10.39377698,   9.50224359,\n",
       "        10.40412267,   8.5148644 ,   8.75967967,   7.72801802,\n",
       "        10.29509995,   9.40037943,   8.20803757,   9.85047531,\n",
       "        10.11308716,   7.75124744,   8.90188391,   4.97919995,\n",
       "         4.95663309,  10.64913764,   8.24002173,   9.04253467,\n",
       "         8.00674888,   5.21037154,   8.80224602,  10.58949309,\n",
       "         9.39564131,   9.30603525,  10.06629725,   9.6000969 ,\n",
       "        10.93178319,  10.81486418,   5.34582024,   6.55508909,\n",
       "        11.34822123,   9.88807658,   8.48508459,   8.49944603,\n",
       "         6.00591752,   8.63451984,   6.01910594,   6.14409193,\n",
       "        10.70742155,   2.93563534,   8.30963992,  11.65944334,\n",
       "        10.76845215,   9.86591315,   9.81564148,   8.60103482,\n",
       "        10.76734392,   5.27603264,  11.39727841,   5.02730325,\n",
       "         7.6786729 ,   9.31348052,  10.94775193,   8.79475591,\n",
       "         9.019796  ,   7.61956018,  10.93454241,   4.85214119,\n",
       "         9.81107817,   7.72383666,  11.01072254,   6.62376784,\n",
       "         7.42966398,  10.08161941,   9.15358457,   9.1617907 ,\n",
       "         6.2592044 ,  10.60381468,   9.06400928,   6.53283474,\n",
       "        11.08631215,  10.85231193,   8.88810248,   4.07438553,\n",
       "         5.05951585,   9.76885384,   9.92479057,   7.88405354,\n",
       "         9.92742825,   6.41944426,   5.75215437,   5.74629285,\n",
       "         8.89510179,  10.89473784,  10.34155041,   8.81134743,\n",
       "        10.78727735,   2.84492417,   8.96216765,   2.84785493,\n",
       "         9.84639472,   6.76538557,  10.75830521,   8.71029221,\n",
       "        11.07914501,   7.89227095,   3.76067057,   7.45850931,\n",
       "         6.38079487,   6.81985013,   8.07036974,   9.76912356,\n",
       "         9.55213481,  10.70808668,   7.51402083,   5.24674275,\n",
       "         6.45269264,   8.43011878,   8.04263369,   8.59176512,\n",
       "         5.22451451,  10.04539624,   5.49212531,   8.77452468,\n",
       "         8.84277636,  10.90166387,   7.10425494,   9.70691037,\n",
       "         9.90450962,   7.98849604,   6.71404205,   6.69424929,\n",
       "         8.63951084,   5.70707166,   8.9295702 ,   8.98457274,\n",
       "         9.35144761,   6.61622508,   8.84672705,   9.15832854,\n",
       "        11.37399749,   9.48613988,   8.75796924,  10.96952781,\n",
       "         6.52982076,   5.71911083,   9.11810595,   4.7946115 ,\n",
       "         7.31614138,   8.72029324,   8.67061619,   9.22298611,\n",
       "         7.31669745,   7.27491664,   9.12419153,   9.62082579,\n",
       "        12.34021844,  10.55313983,  12.05137021,  11.39294871,\n",
       "         5.76531246,  11.18056974,   6.20222189,   8.69473576,\n",
       "         9.88902172,   9.14622697,   9.13391778,   7.53050903,\n",
       "         8.83219218,   5.21992889,   7.41953218,   5.2307727 ,\n",
       "         9.25330625,  10.8292269 ,   7.97585686,   7.98493293,\n",
       "         4.06185389,   8.1107348 ,   8.10809711,   9.46053779,\n",
       "        10.02633876,   4.31178747,   7.03804084,   6.40753583,\n",
       "         9.25626512,   7.67108934,   9.16069354,   5.31411003,\n",
       "         7.49006113,   7.18912992,   6.53002988,   9.64604003,\n",
       "         6.57352194,   9.05241039,   9.68270808,   5.67318667,\n",
       "         5.15978442,   5.06220359,   5.67516337,   5.69216178,\n",
       "         7.1073346 ,   5.50141263,   5.52222103,   4.92709278,\n",
       "         4.90628438,   8.24591556,   5.33466362,  10.31831306,\n",
       "         7.84603532,   5.28766318,   6.21782265,   9.33892177,\n",
       "         5.43840869,   9.35471833,  10.15071259,  10.5942613 ,\n",
       "         9.01625589,  10.81323306,   9.17934621,   5.14783416,\n",
       "         9.57834417,   8.57197084,   8.96216623,   8.34806205,\n",
       "         8.95806317,  10.73300502,   5.76777646,   5.49901968,\n",
       "         7.45901249,   7.50810058,   9.14834161,   9.446413  ,\n",
       "        10.30850039,  10.31840079,  10.02201374,   5.10439551,\n",
       "         8.62509709,   9.05072147,   6.80521292,   6.86057598,\n",
       "         5.81910237,   8.21476804,   9.15444005,   8.15563001,\n",
       "         8.82937185,   9.72816558,   8.139091  ,   5.32371955,\n",
       "         6.05616418,   6.06964568,   8.88541426,   4.66806397,\n",
       "         4.66396091,   7.52077821,   8.92352749,  11.02036   ,\n",
       "         5.33127455,   8.33159057,   4.90446574,   4.91560263,\n",
       "         4.65889529,   9.64297214,   9.9030969 ,  10.93807911,\n",
       "         7.86098194,   6.51816882,  10.14883569,   8.06039375,\n",
       "        10.54746916,   5.29310696,   7.1824521 ,   9.62910598,\n",
       "         7.61091942,   5.29599274,  11.01567521,   6.90242771,\n",
       "        10.17574936,  10.70537607,   8.61873611,   7.61219634,\n",
       "        10.83991954,   8.92992222,  10.72850939,   7.72630931,\n",
       "         8.44668799,   9.77438778,  10.63321987,  10.36060232,\n",
       "         7.1473254 ,  11.21012835,   9.25398487,   8.05549609,\n",
       "         8.08630956,   5.75732281,  10.07430513,   6.30820497,\n",
       "         5.80899249,   5.81397478,   6.81856632,   9.75482728,\n",
       "         6.96831314,   9.48515653,  10.18737562,   7.05806464,\n",
       "         9.36494222,   8.8232662 ,   8.98309133,  11.15891976,\n",
       "        10.62871055,  11.48071396,   6.07182888,  10.83799028,\n",
       "         5.46788191,   9.97445837,  10.53884446,   6.65685365,\n",
       "        10.43068425,   9.44827976,  10.07629394,   8.1811484 ,\n",
       "         8.95209816,   6.02419222,   6.03503604,   9.2092273 ,\n",
       "         8.46466099,   6.94323263,  10.35475079,  11.15409431,\n",
       "         6.37269845,  10.68119558,   9.51884996,   7.10319518,\n",
       "         6.97532094,  10.06099697,   6.97220317,  10.11110116,\n",
       "        10.48918555,  11.24594848,   1.68016087,   3.02369927,\n",
       "         3.37284213,   3.30679597,   2.74994996,   2.70709237,\n",
       "         2.9777046 ,   2.69233525,   3.42741817,   3.43018461,\n",
       "         3.26862674,   3.05222908,   2.86075318,   2.06372939,\n",
       "         2.15371323,   1.54301001,   2.76787657,   3.42063237,\n",
       "         2.43501269,   1.96603583,   3.29424326,   1.58861241,\n",
       "         2.16049919,   3.32781297,   0.11072165,   1.59138957,\n",
       "         3.3500149 ,   2.30886701,   2.34086363,   2.23357339,\n",
       "         2.50191407,   1.35111292,   2.34315067,   1.86289958,\n",
       "         2.77624107,   1.70665882,   7.20722708,   4.18877572,\n",
       "         4.03583219,   2.38585852,   3.18844945,   5.4622001 ,\n",
       "         2.78514862,   4.1732609 ,   5.08744436,   3.86090558,\n",
       "         4.50442718,   4.19883679,   1.31128399,   4.96888917,\n",
       "         3.53951327,   3.91566243,   3.04274873,   4.01286509,\n",
       "         4.9556641 ,   2.99618376,   4.47687425,   3.48202827,\n",
       "         2.52101095,   3.09729821,   4.0265493 ,   4.21032786,\n",
       "         3.56420409,   3.02516914,   4.16773819,   1.6700856 ,\n",
       "        -1.18716738,   3.14011907,   2.78671733,   2.25767656,\n",
       "         2.79464454,   2.70478165,  -0.5049144 ])"
      ]
     },
     "execution_count": 67,
     "metadata": {},
     "output_type": "execute_result"
    }
   ],
   "source": [
    "predictions_val"
   ]
  },
  {
   "cell_type": "markdown",
   "metadata": {},
   "source": [
    "### assess predictions against the test data (with labels)"
   ]
  },
  {
   "cell_type": "code",
   "execution_count": 68,
   "metadata": {},
   "outputs": [],
   "source": [
    "cookies_test = pd.read_csv('cookies_test.csv')"
   ]
  },
  {
   "cell_type": "code",
   "execution_count": 69,
   "metadata": {},
   "outputs": [],
   "source": [
    "y_real = cookies_test[\"quality\"]"
   ]
  },
  {
   "cell_type": "code",
   "execution_count": 70,
   "metadata": {},
   "outputs": [
    {
     "data": {
      "text/plain": [
       "count    779.000000\n",
       "mean       7.661104\n",
       "std        1.093643\n",
       "min        4.000000\n",
       "25%        7.000000\n",
       "50%        8.000000\n",
       "75%        8.000000\n",
       "max       10.000000\n",
       "Name: quality, dtype: float64"
      ]
     },
     "execution_count": 70,
     "metadata": {},
     "output_type": "execute_result"
    }
   ],
   "source": [
    "y_real.describe()"
   ]
  },
  {
   "cell_type": "code",
   "execution_count": 71,
   "metadata": {},
   "outputs": [
    {
     "data": {
      "text/plain": [
       "2.107393176315755"
      ]
     },
     "execution_count": 71,
     "metadata": {},
     "output_type": "execute_result"
    }
   ],
   "source": [
    "mean_squared_error(y_real, predictions_val, squared = False)"
   ]
  },
  {
   "cell_type": "markdown",
   "metadata": {},
   "source": [
    "### Can we get more accuracy with an ensemble method?"
   ]
  },
  {
   "cell_type": "markdown",
   "metadata": {},
   "source": [
    "#### Task 4 : Add a random forest regressor model to try to get a more accurate score. \n",
    "\n",
    "You can follow https://www.geeksforgeeks.org/random-forest-regression-in-python/\n",
    "or the sklearn_documentation https://scikit-learn.org/stable/search.html?q=random+forest\n",
    "to import the regressor and fit it to your data, before running the cells below which will calculate your new RMSE accuracy score"
   ]
  },
  {
   "cell_type": "code",
   "execution_count": 73,
   "metadata": {},
   "outputs": [
    {
     "name": "stdout",
     "output_type": "stream",
     "text": [
      "       id  sugar to flour ratio  sugar index  bake temp  chill time  calories  \\\n",
      "0      14                  0.62        19.25      400.0        41.0     172.0   \n",
      "1      26                  0.35         1.00      520.0        35.0     146.0   \n",
      "2      30                  0.39        10.40      440.0        20.0     142.0   \n",
      "3      52                  0.33         1.10      570.0        21.0      82.0   \n",
      "4     100                  0.37        13.50      600.0        52.0     192.0   \n",
      "..    ...                   ...          ...        ...         ...       ...   \n",
      "774  1442                  0.02         1.90      780.0        18.0      30.0   \n",
      "775  1445                  0.19         5.20      940.0        19.0      98.0   \n",
      "776  1461                  0.00         2.10      600.0         6.0      13.0   \n",
      "777  1467                  0.08         2.30      670.0        19.0      32.0   \n",
      "778  1474                  0.50        13.80     2050.0        48.0      82.0   \n",
      "\n",
      "     density    pH  grams baking soda  bake time  quality butter type  weight  \\\n",
      "0    1.00020  7.98               0.67        9.7        0      melted    16.6   \n",
      "1    0.99300  8.45               0.44       10.0        0      melted    13.8   \n",
      "2    0.99740  8.20               0.53       10.0        0      melted    17.0   \n",
      "3    0.99100  8.32               0.46       10.9        0      melted    12.4   \n",
      "4    0.99750  8.00               0.44        9.1        0      melted    14.8   \n",
      "..       ...   ...                ...        ...      ...         ...     ...   \n",
      "774  0.99712  8.40               0.75        9.8        0       cubed    13.8   \n",
      "775  0.99713  8.16               0.52        9.6        0       cubed    14.8   \n",
      "776  0.99664  8.59               0.61       10.0        0       cubed    12.4   \n",
      "777  0.99648  8.52               0.57       11.0        0       cubed    13.4   \n",
      "778  1.00242  8.16               0.75        8.8        0       cubed    19.8   \n",
      "\n",
      "     diameter                 mixins  crunch factor  aesthetic appeal  \n",
      "0           7        nuts, chocolate           1.85                 3  \n",
      "1           7              chocolate           1.43                 3  \n",
      "2           7              chocolate           1.57                 3  \n",
      "3           7        chocolate, oats           1.44                 3  \n",
      "4           7              chocolate           1.51                 3  \n",
      "..        ...                    ...            ...               ...  \n",
      "774         7  nuts, oats, chocolate           1.01                 3  \n",
      "775         7             nuts, oats           1.68                 3  \n",
      "776         7             nuts, oats           1.38                 3  \n",
      "777         7          peanut butter           1.63                 3  \n",
      "778         7           nuts,raisins           1.90                 3  \n",
      "\n",
      "[779 rows x 17 columns]\n"
     ]
    }
   ],
   "source": [
    "#Task 4 your code: \n",
    "\n",
    "cookie_forest = pd.read_csv('cookies_validate.csv')\n",
    "print(cookie_forest)"
   ]
  },
  {
   "cell_type": "code",
   "execution_count": 74,
   "metadata": {},
   "outputs": [
    {
     "name": "stdout",
     "output_type": "stream",
     "text": [
      "[[0.62]\n",
      " [0.35]\n",
      " [0.39]\n",
      " [0.33]\n",
      " [0.37]\n",
      " [0.31]\n",
      " [0.35]\n",
      " [0.88]\n",
      " [0.36]\n",
      " [0.32]\n",
      " [0.22]\n",
      " [0.26]\n",
      " [0.23]\n",
      " [0.41]\n",
      " [0.3 ]\n",
      " [0.43]\n",
      " [0.41]\n",
      " [0.33]\n",
      " [0.43]\n",
      " [0.4 ]\n",
      " [0.39]\n",
      " [0.34]\n",
      " [0.37]\n",
      " [0.53]\n",
      " [0.34]\n",
      " [0.62]\n",
      " [0.29]\n",
      " [0.12]\n",
      " [0.65]\n",
      " [0.29]\n",
      " [0.27]\n",
      " [0.33]\n",
      " [0.48]\n",
      " [0.26]\n",
      " [0.34]\n",
      " [0.4 ]\n",
      " [0.36]\n",
      " [0.29]\n",
      " [0.44]\n",
      " [0.32]\n",
      " [0.33]\n",
      " [0.34]\n",
      " [0.39]\n",
      " [0.22]\n",
      " [0.47]\n",
      " [0.29]\n",
      " [0.26]\n",
      " [0.34]\n",
      " [0.38]\n",
      " [0.33]\n",
      " [0.69]\n",
      " [0.34]\n",
      " [0.32]\n",
      " [0.3 ]\n",
      " [0.29]\n",
      " [0.33]\n",
      " [0.46]\n",
      " [0.16]\n",
      " [0.42]\n",
      " [0.37]\n",
      " [0.38]\n",
      " [0.33]\n",
      " [0.23]\n",
      " [0.32]\n",
      " [0.29]\n",
      " [0.26]\n",
      " [0.24]\n",
      " [0.49]\n",
      " [0.49]\n",
      " [0.74]\n",
      " [0.49]\n",
      " [0.49]\n",
      " [0.24]\n",
      " [0.49]\n",
      " [0.49]\n",
      " [0.24]\n",
      " [0.49]\n",
      " [0.49]\n",
      " [0.49]\n",
      " [0.49]\n",
      " [0.46]\n",
      " [0.34]\n",
      " [0.2 ]\n",
      " [0.28]\n",
      " [0.26]\n",
      " [0.3 ]\n",
      " [0.3 ]\n",
      " [0.3 ]\n",
      " [0.36]\n",
      " [0.34]\n",
      " [0.31]\n",
      " [0.33]\n",
      " [0.48]\n",
      " [0.44]\n",
      " [0.3 ]\n",
      " [0.3 ]\n",
      " [0.29]\n",
      " [0.28]\n",
      " [0.3 ]\n",
      " [0.22]\n",
      " [0.28]\n",
      " [0.35]\n",
      " [0.36]\n",
      " [0.26]\n",
      " [0.27]\n",
      " [0.21]\n",
      " [0.22]\n",
      " [0.21]\n",
      " [0.23]\n",
      " [0.24]\n",
      " [0.33]\n",
      " [0.2 ]\n",
      " [0.42]\n",
      " [0.3 ]\n",
      " [0.4 ]\n",
      " [0.42]\n",
      " [0.33]\n",
      " [0.33]\n",
      " [0.36]\n",
      " [0.3 ]\n",
      " [0.26]\n",
      " [0.34]\n",
      " [0.27]\n",
      " [0.36]\n",
      " [0.27]\n",
      " [0.35]\n",
      " [0.32]\n",
      " [0.3 ]\n",
      " [0.42]\n",
      " [0.31]\n",
      " [0.46]\n",
      " [0.38]\n",
      " [0.13]\n",
      " [0.31]\n",
      " [0.42]\n",
      " [0.3 ]\n",
      " [0.5 ]\n",
      " [0.3 ]\n",
      " [0.33]\n",
      " [0.33]\n",
      " [0.3 ]\n",
      " [0.3 ]\n",
      " [0.35]\n",
      " [0.27]\n",
      " [0.43]\n",
      " [0.44]\n",
      " [0.27]\n",
      " [0.31]\n",
      " [0.33]\n",
      " [0.25]\n",
      " [0.3 ]\n",
      " [0.26]\n",
      " [0.27]\n",
      " [0.19]\n",
      " [0.19]\n",
      " [0.4 ]\n",
      " [0.31]\n",
      " [0.25]\n",
      " [0.32]\n",
      " [0.28]\n",
      " [0.27]\n",
      " [0.26]\n",
      " [0.52]\n",
      " [0.32]\n",
      " [0.31]\n",
      " [0.35]\n",
      " [0.33]\n",
      " [0.39]\n",
      " [0.45]\n",
      " [0.28]\n",
      " [0.3 ]\n",
      " [0.25]\n",
      " [0.24]\n",
      " [0.35]\n",
      " [0.26]\n",
      " [0.35]\n",
      " [0.29]\n",
      " [0.34]\n",
      " [0.28]\n",
      " [0.35]\n",
      " [0.31]\n",
      " [0.35]\n",
      " [0.42]\n",
      " [0.18]\n",
      " [0.19]\n",
      " [0.2 ]\n",
      " [0.29]\n",
      " [0.18]\n",
      " [0.54]\n",
      " [0.35]\n",
      " [0.54]\n",
      " [0.21]\n",
      " [0.3 ]\n",
      " [0.52]\n",
      " [0.25]\n",
      " [0.22]\n",
      " [0.26]\n",
      " [0.26]\n",
      " [0.28]\n",
      " [0.28]\n",
      " [0.42]\n",
      " [0.18]\n",
      " [0.33]\n",
      " [0.2 ]\n",
      " [0.3 ]\n",
      " [0.55]\n",
      " [0.62]\n",
      " [0.35]\n",
      " [0.22]\n",
      " [0.29]\n",
      " [0.26]\n",
      " [0.73]\n",
      " [0.18]\n",
      " [0.34]\n",
      " [0.25]\n",
      " [0.42]\n",
      " [0.49]\n",
      " [0.28]\n",
      " [0.41]\n",
      " [0.18]\n",
      " [0.18]\n",
      " [0.17]\n",
      " [0.17]\n",
      " [0.27]\n",
      " [0.35]\n",
      " [0.34]\n",
      " [0.26]\n",
      " [0.15]\n",
      " [0.36]\n",
      " [0.23]\n",
      " [0.21]\n",
      " [0.24]\n",
      " [0.23]\n",
      " [0.36]\n",
      " [0.4 ]\n",
      " [0.31]\n",
      " [0.3 ]\n",
      " [0.29]\n",
      " [0.33]\n",
      " [0.3 ]\n",
      " [0.14]\n",
      " [0.34]\n",
      " [0.25]\n",
      " [0.14]\n",
      " [0.64]\n",
      " [0.16]\n",
      " [0.36]\n",
      " [0.24]\n",
      " [0.42]\n",
      " [0.4 ]\n",
      " [0.26]\n",
      " [0.3 ]\n",
      " [0.1 ]\n",
      " [0.32]\n",
      " [0.46]\n",
      " [0.41]\n",
      " [0.28]\n",
      " [0.52]\n",
      " [0.  ]\n",
      " [0.36]\n",
      " [0.31]\n",
      " [0.22]\n",
      " [0.34]\n",
      " [0.34]\n",
      " [0.25]\n",
      " [0.32]\n",
      " [0.36]\n",
      " [0.34]\n",
      " [0.29]\n",
      " [0.31]\n",
      " [0.27]\n",
      " [0.32]\n",
      " [0.28]\n",
      " [0.34]\n",
      " [0.28]\n",
      " [0.19]\n",
      " [0.33]\n",
      " [0.34]\n",
      " [0.36]\n",
      " [0.3 ]\n",
      " [0.34]\n",
      " [0.35]\n",
      " [0.15]\n",
      " [0.34]\n",
      " [0.29]\n",
      " [0.36]\n",
      " [0.6 ]\n",
      " [0.25]\n",
      " [0.3 ]\n",
      " [0.53]\n",
      " [0.32]\n",
      " [0.26]\n",
      " [0.71]\n",
      " [0.72]\n",
      " [0.48]\n",
      " [0.31]\n",
      " [0.31]\n",
      " [0.47]\n",
      " [0.46]\n",
      " [0.34]\n",
      " [0.28]\n",
      " [0.29]\n",
      " [0.38]\n",
      " [0.37]\n",
      " [0.39]\n",
      " [0.26]\n",
      " [0.58]\n",
      " [0.32]\n",
      " [0.39]\n",
      " [0.38]\n",
      " [0.32]\n",
      " [0.3 ]\n",
      " [0.36]\n",
      " [0.3 ]\n",
      " [0.36]\n",
      " [0.46]\n",
      " [0.28]\n",
      " [0.26]\n",
      " [0.25]\n",
      " [0.32]\n",
      " [0.3 ]\n",
      " [0.38]\n",
      " [0.38]\n",
      " [0.28]\n",
      " [0.4 ]\n",
      " [0.3 ]\n",
      " [0.4 ]\n",
      " [0.29]\n",
      " [0.3 ]\n",
      " [0.34]\n",
      " [0.38]\n",
      " [0.39]\n",
      " [0.28]\n",
      " [0.3 ]\n",
      " [0.36]\n",
      " [0.27]\n",
      " [0.36]\n",
      " [0.32]\n",
      " [0.32]\n",
      " [0.3 ]\n",
      " [0.35]\n",
      " [0.29]\n",
      " [0.22]\n",
      " [0.29]\n",
      " [0.29]\n",
      " [0.34]\n",
      " [0.45]\n",
      " [0.29]\n",
      " [0.41]\n",
      " [1.  ]\n",
      " [0.66]\n",
      " [0.54]\n",
      " [0.43]\n",
      " [0.4 ]\n",
      " [0.34]\n",
      " [0.54]\n",
      " [0.4 ]\n",
      " [0.34]\n",
      " [0.37]\n",
      " [0.35]\n",
      " [0.52]\n",
      " [0.45]\n",
      " [0.49]\n",
      " [0.34]\n",
      " [0.45]\n",
      " [0.49]\n",
      " [0.36]\n",
      " [0.34]\n",
      " [0.22]\n",
      " [0.38]\n",
      " [0.38]\n",
      " [0.38]\n",
      " [0.27]\n",
      " [0.43]\n",
      " [0.39]\n",
      " [0.47]\n",
      " [0.36]\n",
      " [0.34]\n",
      " [0.37]\n",
      " [0.35]\n",
      " [0.41]\n",
      " [0.36]\n",
      " [0.33]\n",
      " [0.24]\n",
      " [0.2 ]\n",
      " [0.28]\n",
      " [0.3 ]\n",
      " [0.39]\n",
      " [0.24]\n",
      " [0.29]\n",
      " [0.37]\n",
      " [0.31]\n",
      " [0.31]\n",
      " [0.31]\n",
      " [0.32]\n",
      " [0.31]\n",
      " [0.02]\n",
      " [0.36]\n",
      " [0.29]\n",
      " [0.3 ]\n",
      " [0.25]\n",
      " [0.37]\n",
      " [0.35]\n",
      " [0.32]\n",
      " [0.3 ]\n",
      " [0.37]\n",
      " [0.28]\n",
      " [0.28]\n",
      " [0.28]\n",
      " [0.49]\n",
      " [0.28]\n",
      " [0.32]\n",
      " [0.32]\n",
      " [0.33]\n",
      " [0.32]\n",
      " [0.4 ]\n",
      " [0.3 ]\n",
      " [0.49]\n",
      " [0.26]\n",
      " [0.27]\n",
      " [0.28]\n",
      " [0.27]\n",
      " [0.32]\n",
      " [0.3 ]\n",
      " [0.34]\n",
      " [0.27]\n",
      " [0.36]\n",
      " [0.28]\n",
      " [0.19]\n",
      " [0.24]\n",
      " [0.28]\n",
      " [0.31]\n",
      " [0.44]\n",
      " [0.36]\n",
      " [0.3 ]\n",
      " [0.45]\n",
      " [0.34]\n",
      " [0.28]\n",
      " [0.28]\n",
      " [0.25]\n",
      " [0.24]\n",
      " [0.62]\n",
      " [0.27]\n",
      " [0.27]\n",
      " [0.29]\n",
      " [0.27]\n",
      " [0.46]\n",
      " [0.35]\n",
      " [0.31]\n",
      " [0.25]\n",
      " [0.2 ]\n",
      " [0.29]\n",
      " [0.22]\n",
      " [0.28]\n",
      " [0.28]\n",
      " [0.27]\n",
      " [0.28]\n",
      " [0.36]\n",
      " [0.71]\n",
      " [0.71]\n",
      " [0.28]\n",
      " [0.28]\n",
      " [0.24]\n",
      " [0.18]\n",
      " [0.3 ]\n",
      " [0.28]\n",
      " [0.26]\n",
      " [0.28]\n",
      " [0.33]\n",
      " [0.2 ]\n",
      " [0.32]\n",
      " [0.33]\n",
      " [0.16]\n",
      " [0.26]\n",
      " [0.25]\n",
      " [0.27]\n",
      " [0.41]\n",
      " [0.37]\n",
      " [0.27]\n",
      " [0.35]\n",
      " [0.24]\n",
      " [0.34]\n",
      " [0.27]\n",
      " [0.23]\n",
      " [0.45]\n",
      " [0.28]\n",
      " [0.26]\n",
      " [0.18]\n",
      " [0.28]\n",
      " [0.28]\n",
      " [0.25]\n",
      " [0.32]\n",
      " [0.35]\n",
      " [0.15]\n",
      " [0.28]\n",
      " [0.28]\n",
      " [0.3 ]\n",
      " [0.3 ]\n",
      " [0.52]\n",
      " [0.5 ]\n",
      " [0.3 ]\n",
      " [0.21]\n",
      " [0.39]\n",
      " [0.28]\n",
      " [0.32]\n",
      " [0.3 ]\n",
      " [0.2 ]\n",
      " [0.32]\n",
      " [0.29]\n",
      " [0.26]\n",
      " [0.27]\n",
      " [0.38]\n",
      " [0.25]\n",
      " [0.31]\n",
      " [0.31]\n",
      " [0.24]\n",
      " [0.26]\n",
      " [0.26]\n",
      " [0.37]\n",
      " [0.16]\n",
      " [0.29]\n",
      " [0.3 ]\n",
      " [0.12]\n",
      " [0.38]\n",
      " [0.18]\n",
      " [0.3 ]\n",
      " [0.28]\n",
      " [0.28]\n",
      " [0.34]\n",
      " [0.3 ]\n",
      " [0.36]\n",
      " [0.34]\n",
      " [0.27]\n",
      " [0.3 ]\n",
      " [0.3 ]\n",
      " [0.25]\n",
      " [0.27]\n",
      " [0.41]\n",
      " [0.27]\n",
      " [0.41]\n",
      " [0.31]\n",
      " [0.29]\n",
      " [0.32]\n",
      " [0.49]\n",
      " [0.48]\n",
      " [0.57]\n",
      " [0.57]\n",
      " [0.16]\n",
      " [0.36]\n",
      " [0.28]\n",
      " [0.27]\n",
      " [0.26]\n",
      " [0.21]\n",
      " [0.28]\n",
      " [0.27]\n",
      " [0.27]\n",
      " [0.28]\n",
      " [0.23]\n",
      " [0.23]\n",
      " [0.45]\n",
      " [0.26]\n",
      " [0.22]\n",
      " [0.31]\n",
      " [0.5 ]\n",
      " [0.22]\n",
      " [0.25]\n",
      " [0.26]\n",
      " [0.26]\n",
      " [0.29]\n",
      " [0.25]\n",
      " [0.25]\n",
      " [0.3 ]\n",
      " [0.3 ]\n",
      " [0.33]\n",
      " [0.4 ]\n",
      " [0.3 ]\n",
      " [0.24]\n",
      " [0.53]\n",
      " [0.42]\n",
      " [0.32]\n",
      " [0.24]\n",
      " [0.11]\n",
      " [0.35]\n",
      " [0.37]\n",
      " [0.3 ]\n",
      " [0.36]\n",
      " [0.29]\n",
      " [0.48]\n",
      " [0.2 ]\n",
      " [0.19]\n",
      " [0.22]\n",
      " [0.05]\n",
      " [0.22]\n",
      " [0.27]\n",
      " [0.24]\n",
      " [0.23]\n",
      " [0.24]\n",
      " [0.27]\n",
      " [0.27]\n",
      " [0.25]\n",
      " [0.29]\n",
      " [0.24]\n",
      " [0.28]\n",
      " [0.27]\n",
      " [0.29]\n",
      " [0.35]\n",
      " [0.2 ]\n",
      " [0.2 ]\n",
      " [0.25]\n",
      " [0.21]\n",
      " [0.23]\n",
      " [0.29]\n",
      " [0.31]\n",
      " [0.33]\n",
      " [0.22]\n",
      " [0.44]\n",
      " [0.26]\n",
      " [0.26]\n",
      " [0.28]\n",
      " [0.23]\n",
      " [0.23]\n",
      " [0.52]\n",
      " [0.34]\n",
      " [0.28]\n",
      " [0.26]\n",
      " [0.3 ]\n",
      " [0.31]\n",
      " [0.31]\n",
      " [0.29]\n",
      " [0.27]\n",
      " [0.29]\n",
      " [0.33]\n",
      " [0.18]\n",
      " [0.26]\n",
      " [0.33]\n",
      " [0.17]\n",
      " [0.32]\n",
      " [0.18]\n",
      " [0.22]\n",
      " [0.21]\n",
      " [0.37]\n",
      " [0.22]\n",
      " [0.3 ]\n",
      " [0.32]\n",
      " [0.15]\n",
      " [0.32]\n",
      " [0.23]\n",
      " [0.35]\n",
      " [0.3 ]\n",
      " [0.35]\n",
      " [0.18]\n",
      " [0.23]\n",
      " [0.38]\n",
      " [0.36]\n",
      " [0.3 ]\n",
      " [0.22]\n",
      " [0.06]\n",
      " [0.28]\n",
      " [0.36]\n",
      " [0.34]\n",
      " [0.33]\n",
      " [0.49]\n",
      " [0.33]\n",
      " [0.32]\n",
      " [0.32]\n",
      " [0.32]\n",
      " [0.09]\n",
      " [0.28]\n",
      " [0.16]\n",
      " [0.38]\n",
      " [0.32]\n",
      " [0.33]\n",
      " [0.36]\n",
      " [0.32]\n",
      " [0.25]\n",
      " [0.36]\n",
      " [0.73]\n",
      " [0.26]\n",
      " [0.3 ]\n",
      " [0.32]\n",
      " [0.5 ]\n",
      " [0.33]\n",
      " [0.46]\n",
      " [0.09]\n",
      " [0.01]\n",
      " [0.25]\n",
      " [0.35]\n",
      " [0.5 ]\n",
      " [0.47]\n",
      " [0.35]\n",
      " [0.35]\n",
      " [0.26]\n",
      " [0.24]\n",
      " [0.44]\n",
      " [0.29]\n",
      " [0.34]\n",
      " [0.33]\n",
      " [0.4 ]\n",
      " [0.42]\n",
      " [0.  ]\n",
      " [0.4 ]\n",
      " [0.17]\n",
      " [0.4 ]\n",
      " [0.28]\n",
      " [0.29]\n",
      " [0.3 ]\n",
      " [0.18]\n",
      " [0.24]\n",
      " [0.07]\n",
      " [0.04]\n",
      " [0.3 ]\n",
      " [0.14]\n",
      " [0.36]\n",
      " [0.31]\n",
      " [0.16]\n",
      " [0.25]\n",
      " [0.25]\n",
      " [0.38]\n",
      " [0.5 ]\n",
      " [0.39]\n",
      " [0.28]\n",
      " [0.5 ]\n",
      " [0.67]\n",
      " [0.66]\n",
      " [0.61]\n",
      " [0.59]\n",
      " [0.58]\n",
      " [0.55]\n",
      " [0.72]\n",
      " [0.02]\n",
      " [0.39]\n",
      " [0.31]\n",
      " [0.47]\n",
      " [0.49]\n",
      " [0.49]\n",
      " [0.41]\n",
      " [0.51]\n",
      " [0.45]\n",
      " [0.55]\n",
      " [0.28]\n",
      " [0.08]\n",
      " [0.21]\n",
      " [0.28]\n",
      " [0.46]\n",
      " [0.  ]\n",
      " [0.37]\n",
      " [0.12]\n",
      " [0.  ]\n",
      " [0.36]\n",
      " [0.46]\n",
      " [0.4 ]\n",
      " [0.01]\n",
      " [0.65]\n",
      " [0.53]\n",
      " [0.2 ]\n",
      " [0.56]\n",
      " [0.08]\n",
      " [0.07]\n",
      " [0.12]\n",
      " [0.  ]\n",
      " [0.51]\n",
      " [0.4 ]\n",
      " [0.46]\n",
      " [0.42]\n",
      " [0.29]\n",
      " [0.01]\n",
      " [0.  ]\n",
      " [0.24]\n",
      " [0.02]\n",
      " [0.26]\n",
      " [0.42]\n",
      " [0.59]\n",
      " [0.37]\n",
      " [0.  ]\n",
      " [0.02]\n",
      " [0.19]\n",
      " [0.  ]\n",
      " [0.08]\n",
      " [0.5 ]]\n"
     ]
    }
   ],
   "source": [
    "#Task 4 your code: \n",
    "\n",
    "x = cookie_forest.iloc[:, 1:2].values \n",
    "print(x)\n",
    "y = cookie_forest.iloc[:, 2].values "
   ]
  },
  {
   "cell_type": "code",
   "execution_count": 76,
   "metadata": {},
   "outputs": [
    {
     "data": {
      "text/plain": [
       "RandomForestRegressor(random_state=0)"
      ]
     },
     "execution_count": 76,
     "metadata": {},
     "output_type": "execute_result"
    }
   ],
   "source": [
    "#Task 4 your code: \n",
    "\n",
    "# Fitting Random Forest Regression to the dataset\n",
    "# import the regressor\n",
    "from sklearn.ensemble import RandomForestRegressor\n",
    "\n",
    " # create regressor object\n",
    "regressor = RandomForestRegressor(n_estimators = 100, random_state = 0)\n",
    "  \n",
    "# fit the regressor with x and y data\n",
    "regressor.fit(x, y)  "
   ]
  },
  {
   "cell_type": "code",
   "execution_count": 81,
   "metadata": {},
   "outputs": [
    {
     "data": {
      "text/plain": [
       "array([2.4345])"
      ]
     },
     "execution_count": 81,
     "metadata": {},
     "output_type": "execute_result"
    }
   ],
   "source": [
    "#Task 4 your code: \n",
    "\n",
    "\n",
    "Y_pred = regressor.predict(np.array([6.5]).reshape(1, 1))  # test the output by changing values\n",
    "Y_pred"
   ]
  },
  {
   "cell_type": "code",
   "execution_count": 82,
   "metadata": {},
   "outputs": [
    {
     "data": {
      "image/png": "[encoded data removed]",
      "text/plain": [
       "<Figure size 432x288 with 1 Axes>"
      ]
     },
     "metadata": {
      "needs_background": "light"
     },
     "output_type": "display_data"
    }
   ],
   "source": [
    "# Visualising the Random Forest Regression results\n",
    "  \n",
    "# arange for creating a range of values\n",
    "# from min value of x to max \n",
    "# value of x with a difference of 0.01 \n",
    "# between two consecutive values\n",
    "X_grid = np.arange(min(x), max(x), 0.01) \n",
    "  \n",
    "# reshape for reshaping the data into a len(X_grid)*1 array, \n",
    "# i.e. to make a column out of the X_grid value                  \n",
    "X_grid = X_grid.reshape((len(X_grid), 1))\n",
    "  \n",
    "# Scatter plot for original data\n",
    "plt.scatter(x, y, color = 'blue')  \n",
    "  \n",
    "# plot predicted data\n",
    "plt.plot(X_grid, regressor.predict(X_grid), \n",
    "         color = 'green') \n",
    "plt.title('Random Forest Regression')\n",
    "#plt.xlabel('Position level')\n",
    "#plt.ylabel('Salary')\n",
    "plt.show()"
   ]
  },
  {
   "cell_type": "code",
   "execution_count": null,
   "metadata": {},
   "outputs": [],
   "source": []
  },
  {
   "cell_type": "code",
   "execution_count": null,
   "metadata": {},
   "outputs": [],
   "source": []
  },
  {
   "cell_type": "code",
   "execution_count": null,
   "metadata": {},
   "outputs": [],
   "source": []
  },
  {
   "cell_type": "code",
   "execution_count": null,
   "metadata": {},
   "outputs": [],
   "source": []
  },
  {
   "cell_type": "code",
   "execution_count": null,
   "metadata": {},
   "outputs": [],
   "source": []
  },
  {
   "cell_type": "markdown",
   "metadata": {},
   "source": [
    "### Evaluate random forest accuracy "
   ]
  },
  {
   "cell_type": "markdown",
   "metadata": {},
   "source": [
    "RMSE accuracy Score - depending on what you named your model and predictions this code may need to be adapted\n",
    "\n",
    "ie if your model is called 'new model' and you have created a prediction from this model 'predictions_new' then edit the code block below as: \n",
    "    \n",
    "    mean_squared_error(y_real, predictions_new, squared = False)\n",
    "    "
   ]
  },
  {
   "cell_type": "code",
   "execution_count": 84,
   "metadata": {},
   "outputs": [
    {
     "ename": "ValueError",
     "evalue": "Found input variables with inconsistent numbers of samples: [1, 779]",
     "output_type": "error",
     "traceback": [
      "\u001b[0;31m---------------------------------------------------------------------------\u001b[0m",
      "\u001b[0;31mValueError\u001b[0m                                Traceback (most recent call last)",
      "\u001b[0;32m<ipython-input-84-53c4d78cd01d>\u001b[0m in \u001b[0;36m<module>\u001b[0;34m\u001b[0m\n\u001b[1;32m      1\u001b[0m \u001b[0;31m#EDIT as appropriate to get your RMSE\u001b[0m\u001b[0;34m\u001b[0m\u001b[0;34m\u001b[0m\u001b[0;34m\u001b[0m\u001b[0m\n\u001b[1;32m      2\u001b[0m \u001b[0;34m\u001b[0m\u001b[0m\n\u001b[0;32m----> 3\u001b[0;31m \u001b[0mmean_squared_error\u001b[0m\u001b[0;34m(\u001b[0m\u001b[0mY_pred\u001b[0m\u001b[0;34m,\u001b[0m \u001b[0mpredictions_val\u001b[0m\u001b[0;34m,\u001b[0m \u001b[0msquared\u001b[0m \u001b[0;34m=\u001b[0m \u001b[0;32mFalse\u001b[0m\u001b[0;34m)\u001b[0m\u001b[0;34m\u001b[0m\u001b[0;34m\u001b[0m\u001b[0m\n\u001b[0m",
      "\u001b[0;32m~/opt/miniconda3/lib/python3.8/site-packages/sklearn/utils/validation.py\u001b[0m in \u001b[0;36minner_f\u001b[0;34m(*args, **kwargs)\u001b[0m\n\u001b[1;32m     61\u001b[0m             \u001b[0mextra_args\u001b[0m \u001b[0;34m=\u001b[0m \u001b[0mlen\u001b[0m\u001b[0;34m(\u001b[0m\u001b[0margs\u001b[0m\u001b[0;34m)\u001b[0m \u001b[0;34m-\u001b[0m \u001b[0mlen\u001b[0m\u001b[0;34m(\u001b[0m\u001b[0mall_args\u001b[0m\u001b[0;34m)\u001b[0m\u001b[0;34m\u001b[0m\u001b[0;34m\u001b[0m\u001b[0m\n\u001b[1;32m     62\u001b[0m             \u001b[0;32mif\u001b[0m \u001b[0mextra_args\u001b[0m \u001b[0;34m<=\u001b[0m \u001b[0;36m0\u001b[0m\u001b[0;34m:\u001b[0m\u001b[0;34m\u001b[0m\u001b[0;34m\u001b[0m\u001b[0m\n\u001b[0;32m---> 63\u001b[0;31m                 \u001b[0;32mreturn\u001b[0m \u001b[0mf\u001b[0m\u001b[0;34m(\u001b[0m\u001b[0;34m*\u001b[0m\u001b[0margs\u001b[0m\u001b[0;34m,\u001b[0m \u001b[0;34m**\u001b[0m\u001b[0mkwargs\u001b[0m\u001b[0;34m)\u001b[0m\u001b[0;34m\u001b[0m\u001b[0;34m\u001b[0m\u001b[0m\n\u001b[0m\u001b[1;32m     64\u001b[0m \u001b[0;34m\u001b[0m\u001b[0m\n\u001b[1;32m     65\u001b[0m             \u001b[0;31m# extra_args > 0\u001b[0m\u001b[0;34m\u001b[0m\u001b[0;34m\u001b[0m\u001b[0;34m\u001b[0m\u001b[0m\n",
      "\u001b[0;32m~/opt/miniconda3/lib/python3.8/site-packages/sklearn/metrics/_regression.py\u001b[0m in \u001b[0;36mmean_squared_error\u001b[0;34m(y_true, y_pred, sample_weight, multioutput, squared)\u001b[0m\n\u001b[1;32m    333\u001b[0m     \u001b[0;36m0.825\u001b[0m\u001b[0;34m...\u001b[0m\u001b[0;34m\u001b[0m\u001b[0;34m\u001b[0m\u001b[0m\n\u001b[1;32m    334\u001b[0m     \"\"\"\n\u001b[0;32m--> 335\u001b[0;31m     y_type, y_true, y_pred, multioutput = _check_reg_targets(\n\u001b[0m\u001b[1;32m    336\u001b[0m         y_true, y_pred, multioutput)\n\u001b[1;32m    337\u001b[0m     \u001b[0mcheck_consistent_length\u001b[0m\u001b[0;34m(\u001b[0m\u001b[0my_true\u001b[0m\u001b[0;34m,\u001b[0m \u001b[0my_pred\u001b[0m\u001b[0;34m,\u001b[0m \u001b[0msample_weight\u001b[0m\u001b[0;34m)\u001b[0m\u001b[0;34m\u001b[0m\u001b[0;34m\u001b[0m\u001b[0m\n",
      "\u001b[0;32m~/opt/miniconda3/lib/python3.8/site-packages/sklearn/metrics/_regression.py\u001b[0m in \u001b[0;36m_check_reg_targets\u001b[0;34m(y_true, y_pred, multioutput, dtype)\u001b[0m\n\u001b[1;32m     86\u001b[0m         \u001b[0mthe\u001b[0m \u001b[0mdtype\u001b[0m \u001b[0margument\u001b[0m \u001b[0mpassed\u001b[0m \u001b[0mto\u001b[0m \u001b[0mcheck_array\u001b[0m\u001b[0;34m.\u001b[0m\u001b[0;34m\u001b[0m\u001b[0;34m\u001b[0m\u001b[0m\n\u001b[1;32m     87\u001b[0m     \"\"\"\n\u001b[0;32m---> 88\u001b[0;31m     \u001b[0mcheck_consistent_length\u001b[0m\u001b[0;34m(\u001b[0m\u001b[0my_true\u001b[0m\u001b[0;34m,\u001b[0m \u001b[0my_pred\u001b[0m\u001b[0;34m)\u001b[0m\u001b[0;34m\u001b[0m\u001b[0;34m\u001b[0m\u001b[0m\n\u001b[0m\u001b[1;32m     89\u001b[0m     \u001b[0my_true\u001b[0m \u001b[0;34m=\u001b[0m \u001b[0mcheck_array\u001b[0m\u001b[0;34m(\u001b[0m\u001b[0my_true\u001b[0m\u001b[0;34m,\u001b[0m \u001b[0mensure_2d\u001b[0m\u001b[0;34m=\u001b[0m\u001b[0;32mFalse\u001b[0m\u001b[0;34m,\u001b[0m \u001b[0mdtype\u001b[0m\u001b[0;34m=\u001b[0m\u001b[0mdtype\u001b[0m\u001b[0;34m)\u001b[0m\u001b[0;34m\u001b[0m\u001b[0;34m\u001b[0m\u001b[0m\n\u001b[1;32m     90\u001b[0m     \u001b[0my_pred\u001b[0m \u001b[0;34m=\u001b[0m \u001b[0mcheck_array\u001b[0m\u001b[0;34m(\u001b[0m\u001b[0my_pred\u001b[0m\u001b[0;34m,\u001b[0m \u001b[0mensure_2d\u001b[0m\u001b[0;34m=\u001b[0m\u001b[0;32mFalse\u001b[0m\u001b[0;34m,\u001b[0m \u001b[0mdtype\u001b[0m\u001b[0;34m=\u001b[0m\u001b[0mdtype\u001b[0m\u001b[0;34m)\u001b[0m\u001b[0;34m\u001b[0m\u001b[0;34m\u001b[0m\u001b[0m\n",
      "\u001b[0;32m~/opt/miniconda3/lib/python3.8/site-packages/sklearn/utils/validation.py\u001b[0m in \u001b[0;36mcheck_consistent_length\u001b[0;34m(*arrays)\u001b[0m\n\u001b[1;32m    260\u001b[0m     \u001b[0muniques\u001b[0m \u001b[0;34m=\u001b[0m \u001b[0mnp\u001b[0m\u001b[0;34m.\u001b[0m\u001b[0munique\u001b[0m\u001b[0;34m(\u001b[0m\u001b[0mlengths\u001b[0m\u001b[0;34m)\u001b[0m\u001b[0;34m\u001b[0m\u001b[0;34m\u001b[0m\u001b[0m\n\u001b[1;32m    261\u001b[0m     \u001b[0;32mif\u001b[0m \u001b[0mlen\u001b[0m\u001b[0;34m(\u001b[0m\u001b[0muniques\u001b[0m\u001b[0;34m)\u001b[0m \u001b[0;34m>\u001b[0m \u001b[0;36m1\u001b[0m\u001b[0;34m:\u001b[0m\u001b[0;34m\u001b[0m\u001b[0;34m\u001b[0m\u001b[0m\n\u001b[0;32m--> 262\u001b[0;31m         raise ValueError(\"Found input variables with inconsistent numbers of\"\n\u001b[0m\u001b[1;32m    263\u001b[0m                          \" samples: %r\" % [int(l) for l in lengths])\n\u001b[1;32m    264\u001b[0m \u001b[0;34m\u001b[0m\u001b[0m\n",
      "\u001b[0;31mValueError\u001b[0m: Found input variables with inconsistent numbers of samples: [1, 779]"
     ]
    }
   ],
   "source": [
    "#EDIT as appropriate to get your RMSE \n",
    "\n",
    "mean_squared_error(Y_pred, predictions_val, squared = False)"
   ]
  }
 ],
 "metadata": {
  "kernelspec": {
   "display_name": "Python 3",
   "language": "python",
   "name": "python3"
  },
  "language_info": {
   "codemirror_mode": {
    "name": "ipython",
    "version": 3
   },
   "file_extension": ".py",
   "mimetype": "text/x-python",
   "name": "python",
   "nbconvert_exporter": "python",
   "pygments_lexer": "ipython3",
   "version": "3.8.5"
  }
 },
 "nbformat": 4,
 "nbformat_minor": 4
}
